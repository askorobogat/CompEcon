{
 "cells": [
  {
   "cell_type": "markdown",
   "id": "5d8c7d19",
   "metadata": {},
   "source": [
    "### Computational Economics\n",
    "Alexander Skorobogatov"
   ]
  },
  {
   "cell_type": "markdown",
   "id": "33256d6c",
   "metadata": {},
   "source": [
    "# Information for the projects"
   ]
  },
  {
   "cell_type": "markdown",
   "id": "474d4bc3",
   "metadata": {},
   "source": [
    "Work is to be done by a group of 1-4 persons.  \n",
    "\n",
    "Choose an academic or applied problem and solve this using functions of Python, including its libraries such as numpy, pandas, sympy, etc.  \n",
    "    \n",
    "Examples of academic problems  \n",
    "* Take a model from a micro- or macroeconomics textbook, provide its setup and analytical solution using sympy, illustrate this numerically using numpy and/or pandas, and vizualize your analysis using matplotlib. For example of this work, see [here](https://github.com/askorobogat/CompEcon/blob/main/Seminar%204.2_assignments.ipynb).  \n",
    "* Take a panel or time series dataset and analyze this using Markov chains toolkit and the respective Python libraries (example of the task is [here](https://github.com/askorobogat/CompEcon/blob/main/Seminar%203.1_assignments.ipynb)).  \n",
    "* Take a time series dataset and analyze this using SVAR and the respective Python libraries (example of the task is [here](https://github.com/askorobogat/CompEcon/blob/main/Topic%206.1%20SVAR.ipynb)).  \n",
    "    \n",
    "Examples of applied problems  \n",
    "* Take a piece of data of your own choice (from the Internet, a PDF file) which needs extensive manipulations using numpy/pandas to make it analyzable as a standard table. The more manipulations, the better.\n",
    "* Take business reports of a company, e.g., [this](https://www.nornickel.ru/upload/iblock/53b/k7mqjhb1n9o0y8eieu0adzgn3b98z8xg/NN_AR_2021_Book_RUS_26.09.22.pdf), choose a table reported annually, read this for all the available years in Python and combine in one table.\n",
    "\n",
    "Criteria of a good job\n",
    "\n",
    "1. An extensive use of the material covered in the course;\n",
    "2. But your operations do not reduce to copying codes from seminars/lectures.When needed you may do the same by your own;\n",
    "3. If you implement some libraries/ideas/skills going beyond the course this is your advantage;\n",
    "4. The more persons involved, the higher the requirements to the quantity/quality of the work done.\n",
    "\n",
    "Format and submit\n",
    "\n",
    "Format you work as a Jupiter notebook, put the names of all the participants, and send me to [the telegram](https://t.me/al_askorobogatov).\n",
    "\n",
    "Deadline -- October 24."
   ]
  }
 ],
 "metadata": {
  "kernelspec": {
   "display_name": "Python 3 (ipykernel)",
   "language": "python",
   "name": "python3"
  },
  "language_info": {
   "codemirror_mode": {
    "name": "ipython",
    "version": 3
   },
   "file_extension": ".py",
   "mimetype": "text/x-python",
   "name": "python",
   "nbconvert_exporter": "python",
   "pygments_lexer": "ipython3",
   "version": "3.9.12"
  }
 },
 "nbformat": 4,
 "nbformat_minor": 5
}
