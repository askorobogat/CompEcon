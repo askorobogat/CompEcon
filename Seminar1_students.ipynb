{
 "cells": [
  {
   "cell_type": "markdown",
   "id": "5c03ef04",
   "metadata": {},
   "source": [
    "# Seminar 1\n",
    "## Introduction to Python"
   ]
  },
  {
   "cell_type": "markdown",
   "id": "4a207169",
   "metadata": {},
   "source": [
    "1. Write a function that takes in a string and returns a list of words in the string."
   ]
  },
  {
   "cell_type": "code",
   "execution_count": 3,
   "id": "59ed645f",
   "metadata": {},
   "outputs": [
    {
     "data": {
      "text/plain": [
       "['Let', 'us', 'start', 'once', 'again']"
      ]
     },
     "execution_count": 3,
     "metadata": {},
     "output_type": "execute_result"
    }
   ],
   "source": [
    "# Alexander Zaytsev\n",
    "def f(x): return x.split()\n",
    "f('Let us start once again')"
   ]
  },
  {
   "cell_type": "code",
   "execution_count": 16,
   "id": "a129b985",
   "metadata": {},
   "outputs": [],
   "source": [
    "# Colorful Coconut\n",
    "def string_sep(a):\n",
    "    if type(a) == str:\n",
    "        result = a.split()\n",
    "    else:\n",
    "        result = False\n",
    "    return result\n",
    "string_sep('Let us start once again')"
   ]
  },
  {
   "cell_type": "markdown",
   "id": "a66970c3",
   "metadata": {},
   "source": [
    "2.\tWrite a function that takes in a string and returns a list of words in the string except the first and last."
   ]
  },
  {
   "cell_type": "code",
   "execution_count": 6,
   "id": "fa8e1f31",
   "metadata": {},
   "outputs": [
    {
     "data": {
      "text/plain": [
       "['b', 'c']"
      ]
     },
     "execution_count": 6,
     "metadata": {},
     "output_type": "execute_result"
    }
   ],
   "source": [
    "# Svetlichnyy Nikodim\n",
    "def xuy(x):\n",
    "    lol = x.split()\n",
    "    lol.remove(lol[0])\n",
    "    lol.remove(lol[-1])\n",
    "    return(lol)\n",
    "xuy('a b c d')"
   ]
  },
  {
   "cell_type": "code",
   "execution_count": 8,
   "id": "0a7047fe",
   "metadata": {},
   "outputs": [
    {
     "data": {
      "text/plain": [
       "['b', 'c']"
      ]
     },
     "execution_count": 8,
     "metadata": {},
     "output_type": "execute_result"
    }
   ],
   "source": [
    "# Alekhin Kirill\n",
    "def f(s):\n",
    "    s = s.split()\n",
    "    s = s[1:]\n",
    "    s = s[:-1]\n",
    "    return s\n",
    "f('a b c d')"
   ]
  },
  {
   "cell_type": "code",
   "execution_count": 9,
   "id": "525165cf",
   "metadata": {},
   "outputs": [
    {
     "data": {
      "text/plain": [
       "['b', 'c']"
      ]
     },
     "execution_count": 9,
     "metadata": {},
     "output_type": "execute_result"
    }
   ],
   "source": [
    "# Colorful Coconut\n",
    "def str_sep(a):\n",
    "    if type(a) == str:\n",
    "        result = a.split()\n",
    "        result = result[1:-1]\n",
    "    else:\n",
    "        result = False\n",
    "    return result\n",
    "str_sep('a b c d')"
   ]
  },
  {
   "cell_type": "code",
   "execution_count": 10,
   "id": "6ab8b899",
   "metadata": {},
   "outputs": [
    {
     "data": {
      "text/plain": [
       "['b', 'c']"
      ]
     },
     "execution_count": 10,
     "metadata": {},
     "output_type": "execute_result"
    }
   ],
   "source": [
    "# Frolova Daryana\n",
    "def new_string_to_list(a):\n",
    "    l = a.split()\n",
    "    return(l[1:-1])\n",
    "new_string_to_list('a b c d')"
   ]
  },
  {
   "cell_type": "code",
   "execution_count": 13,
   "id": "570b8d5c",
   "metadata": {},
   "outputs": [
    {
     "name": "stdout",
     "output_type": "stream",
     "text": [
      "'a b c d'\n"
     ]
    },
    {
     "data": {
      "text/plain": [
       "[\"'a\", 'b', 'c', \"d'\"]"
      ]
     },
     "execution_count": 13,
     "metadata": {},
     "output_type": "execute_result"
    }
   ],
   "source": [
    "def strli(string):\n",
    "    return input().split()\n",
    "strli('a b c d')"
   ]
  },
  {
   "cell_type": "markdown",
   "id": "97328f89",
   "metadata": {},
   "source": [
    "3.\tWrite a function which inputs a string and an integer n, and split it into items and returns n-th word"
   ]
  },
  {
   "cell_type": "code",
   "execution_count": 18,
   "id": "4b53186b",
   "metadata": {},
   "outputs": [
    {
     "data": {
      "text/plain": [
       "'us'"
      ]
     },
     "execution_count": 18,
     "metadata": {},
     "output_type": "execute_result"
    }
   ],
   "source": [
    "# Fedorova Tatyana\n",
    "def f(x,n):\n",
    "    return x.split()[n-1]\n",
    "f('Let us start once again',2)"
   ]
  },
  {
   "cell_type": "markdown",
   "id": "88cee016",
   "metadata": {},
   "source": [
    "4.\tWrite a function which inputs two strings, splits the first one and add the second string to the list"
   ]
  },
  {
   "cell_type": "code",
   "execution_count": 20,
   "id": "9825dec2",
   "metadata": {},
   "outputs": [
    {
     "data": {
      "text/plain": [
       "['a', 'b', 'c', 'd', 'kjhgf']"
      ]
     },
     "execution_count": 20,
     "metadata": {},
     "output_type": "execute_result"
    }
   ],
   "source": [
    "# Colorful Coconut\n",
    "def f(a,b):\n",
    "    return a.split() + [b]\n",
    "f('a b c d','kjhgf')"
   ]
  },
  {
   "cell_type": "code",
   "execution_count": 21,
   "id": "26f22684",
   "metadata": {},
   "outputs": [
    {
     "data": {
      "text/plain": [
       "['a', 'b', 'c', 'd', 'kjhgf']"
      ]
     },
     "execution_count": 21,
     "metadata": {},
     "output_type": "execute_result"
    }
   ],
   "source": [
    "# Akimov Nikita\n",
    "def t4(str1, str2):\n",
    "    result = str1.split()\n",
    "    result.append(str2)\n",
    "    return result\n",
    "t4('a b c d','kjhgf')"
   ]
  },
  {
   "cell_type": "markdown",
   "id": "46657f26",
   "metadata": {},
   "source": [
    "5.\tWrite a function which inputs a string, makes a new string reversing the first one"
   ]
  },
  {
   "cell_type": "code",
   "execution_count": 23,
   "id": "d7d08ec8",
   "metadata": {},
   "outputs": [
    {
     "data": {
      "text/plain": [
       "['again', 'once', 'start', 'us', 'Let']"
      ]
     },
     "execution_count": 23,
     "metadata": {},
     "output_type": "execute_result"
    }
   ],
   "source": [
    "# Colorful Coconut\n",
    "def g(a):\n",
    "    return a.split()[::-1]\n",
    "g('Let us start once again')"
   ]
  },
  {
   "cell_type": "code",
   "execution_count": 2,
   "id": "eed3971a",
   "metadata": {},
   "outputs": [
    {
     "data": {
      "text/plain": [
       "'again once start us Let'"
      ]
     },
     "execution_count": 2,
     "metadata": {},
     "output_type": "execute_result"
    }
   ],
   "source": [
    "# Skorobogatov Alexander (to demonstrate method reverse)\n",
    "def f(s):\n",
    "    l = s.split()\n",
    "    l.reverse()\n",
    "    return ' '.join(l)\n",
    "f('Let us start once again')"
   ]
  },
  {
   "cell_type": "markdown",
   "id": "d56874ed",
   "metadata": {},
   "source": [
    "### Cycles"
   ]
  },
  {
   "cell_type": "markdown",
   "id": "dae732b4",
   "metadata": {},
   "source": [
    "6.\tFunction inputs string containing names divided by spaces. For each name one should obtain Hello, name!"
   ]
  },
  {
   "cell_type": "code",
   "execution_count": 27,
   "id": "bfb98216",
   "metadata": {},
   "outputs": [
    {
     "name": "stdout",
     "output_type": "stream",
     "text": [
      "Hello, Bob!\n",
      "Hello, Rob!\n",
      "Hello, Alice!\n",
      "Hello, Alex!\n",
      "Hello, John!\n"
     ]
    }
   ],
   "source": [
    "# Fedorova Tatyana\n",
    "def f(a):\n",
    "    names_list=a.split()\n",
    "    for i in names_list:\n",
    "        print('Hello, '+ i + '!')\n",
    "f('Bob Rob Alice Alex John')"
   ]
  },
  {
   "cell_type": "code",
   "execution_count": 31,
   "id": "d74fa710",
   "metadata": {},
   "outputs": [
    {
     "data": {
      "text/plain": [
       "['Hello, Anya!', 'Hello, Lesha!', 'Hello, Ksusha!', 'Hello, Masha!']"
      ]
     },
     "execution_count": 31,
     "metadata": {},
     "output_type": "execute_result"
    }
   ],
   "source": [
    "# Akimov Nikita\n",
    "def t6(string):\n",
    "    return list(map(lambda x: \"Hello, \" + x + \"!\", string.split()))\n",
    "t6('Anya Lesha Ksusha Masha')"
   ]
  },
  {
   "cell_type": "code",
   "execution_count": 4,
   "id": "cc87917c",
   "metadata": {},
   "outputs": [
    {
     "name": "stdout",
     "output_type": "stream",
     "text": [
      "Hello, n!\n",
      "Hello, m!\n",
      "Hello, h!\n",
      "Hello, g!\n",
      "\n"
     ]
    }
   ],
   "source": [
    "# Bakuteeva Darya\n",
    "def f(names):\n",
    "    list = ['Hello, ' + i +'!' + '\\n' for i in names.split()]\n",
    "    return ''.join(list)\n",
    "print(f('n m h g'))"
   ]
  },
  {
   "cell_type": "markdown",
   "id": "c28cda26",
   "metadata": {},
   "source": [
    "7.\tFunction inputs two integers A and B and prints all the integers between A and B as a column"
   ]
  },
  {
   "cell_type": "code",
   "execution_count": 33,
   "id": "da22423f",
   "metadata": {},
   "outputs": [
    {
     "name": "stdout",
     "output_type": "stream",
     "text": [
      "1\n",
      "2\n",
      "3\n",
      "4\n",
      "5\n",
      "6\n"
     ]
    }
   ],
   "source": [
    "# Titov Egor\n",
    "def f(a, b):\n",
    "    for i in range(a, b+1):\n",
    "        print(i)\n",
    "f(1,6)"
   ]
  },
  {
   "cell_type": "code",
   "execution_count": 35,
   "id": "88cb8694",
   "metadata": {},
   "outputs": [
    {
     "name": "stdout",
     "output_type": "stream",
     "text": [
      "1\n",
      "2\n",
      "3\n",
      "4\n",
      "5\n",
      "6\n"
     ]
    }
   ],
   "source": [
    "# # Alexander Zaytsev\n",
    "def f(a, b):\n",
    "    n = a\n",
    "    while n <= b:\n",
    "        print(n)\n",
    "        n = n + 1 \n",
    "f(1,6)"
   ]
  },
  {
   "cell_type": "markdown",
   "id": "48bfdbe9",
   "metadata": {},
   "source": [
    "8.\tFunction inputs a string with integers divided by spaces and returns their product"
   ]
  },
  {
   "cell_type": "code",
   "execution_count": 9,
   "id": "aaa3d13b",
   "metadata": {},
   "outputs": [
    {
     "data": {
      "text/plain": [
       "120"
      ]
     },
     "execution_count": 9,
     "metadata": {},
     "output_type": "execute_result"
    }
   ],
   "source": [
    "# colorful\n",
    "def r(s):\n",
    "    res = 1\n",
    "    for i in s.split():\n",
    "        res *= int(i)\n",
    "    return res\n",
    "r('1 2 3 4 5')"
   ]
  },
  {
   "cell_type": "code",
   "execution_count": 8,
   "id": "b19fce7f",
   "metadata": {},
   "outputs": [
    {
     "data": {
      "text/plain": [
       "24"
      ]
     },
     "execution_count": 8,
     "metadata": {},
     "output_type": "execute_result"
    }
   ],
   "source": [
    "# Rogov Ivan \n",
    "def prod(st):\n",
    "    spl = st.split()\n",
    "    a=1\n",
    "    for itg in spl:\n",
    "        a=a*int(itg)\n",
    "    return a\n",
    "prod('2 3 4')"
   ]
  },
  {
   "cell_type": "code",
   "execution_count": 23,
   "id": "03b0c44d",
   "metadata": {},
   "outputs": [
    {
     "data": {
      "text/plain": [
       "120"
      ]
     },
     "execution_count": 23,
     "metadata": {},
     "output_type": "execute_result"
    }
   ],
   "source": [
    "# Skorobogatov Alexander (the use of numpy)\n",
    "import numpy as np\n",
    "def s_prod(s):\n",
    "    a = s.split()\n",
    "    x = []\n",
    "    for i in a:\n",
    "        x.append(int(i))\n",
    "    return np.prod(x)\n",
    "s_prod('1 2 3 4 5')"
   ]
  },
  {
   "cell_type": "markdown",
   "id": "aaa970b1",
   "metadata": {},
   "source": [
    "9.\tFunction inputs an integer n and print the multiplication table up to n"
   ]
  },
  {
   "cell_type": "code",
   "execution_count": 44,
   "id": "841dd567",
   "metadata": {},
   "outputs": [
    {
     "name": "stdout",
     "output_type": "stream",
     "text": [
      "0 x 4 = 0\n",
      "1 x 4 = 4\n",
      "2 x 4 = 8\n",
      "3 x 4 = 12\n",
      "4 x 4 = 16\n"
     ]
    }
   ],
   "source": [
    "# Titov Egor\n",
    "def f(n):\n",
    "    print(*[f'{i} x {n} = {i*n}' for i in range(0, n+1)], sep='\\n')\n",
    "f(4)"
   ]
  },
  {
   "cell_type": "code",
   "execution_count": 46,
   "id": "ca702081",
   "metadata": {},
   "outputs": [
    {
     "data": {
      "text/plain": [
       "array([['1x1=1', '1x2=2', '1x3=3', '1x4=4'],\n",
       "       ['2x1=2', '2x2=4', '2x3=6', '2x4=8'],\n",
       "       ['3x1=3', '3x2=6', '3x3=9', '3x4=12'],\n",
       "       ['4x1=4', '4x2=8', '4x3=12', '4x4=16']], dtype='<U6')"
      ]
     },
     "execution_count": 46,
     "metadata": {},
     "output_type": "execute_result"
    }
   ],
   "source": [
    "# colorful\n",
    "import numpy as np\n",
    "M1 = np.array\n",
    "def w(n):\n",
    "    matrix = []\n",
    "    for i in range(1,n+1):\n",
    "        lst = []\n",
    "        for j in range(1,n+1):\n",
    "            lst.append(str(i)+'x'+str(j)+'='+str(i*j))\n",
    "        matrix.append(lst)\n",
    "    M = np.array(matrix)\n",
    "    return M\n",
    "w(4)"
   ]
  },
  {
   "cell_type": "code",
   "execution_count": 37,
   "id": "35217896",
   "metadata": {},
   "outputs": [
    {
     "name": "stdout",
     "output_type": "stream",
     "text": [
      "1\t2\t3\t4\t5\t\n",
      "\n",
      "2\t4\t6\t8\t10\t\n",
      "\n",
      "3\t6\t9\t12\t15\t\n",
      "\n",
      "4\t8\t12\t16\t20\t\n",
      "\n",
      "5\t10\t15\t20\t25\t\n",
      "\n"
     ]
    }
   ],
   "source": [
    "# Rabchevskiy Daniil\n",
    "def f(n):\n",
    "    for i in range(1, int(n)+1):\n",
    "        for j in range(1, int(n)+1):\n",
    "            print(j*i, end = '\\t')\n",
    "        print('\\n')    \n",
    "f(5)"
   ]
  },
  {
   "cell_type": "code",
   "execution_count": 40,
   "id": "8221e8ce",
   "metadata": {},
   "outputs": [
    {
     "name": "stdout",
     "output_type": "stream",
     "text": [
      "1 2 3 4 5\n",
      "2 4 6 8 10\n",
      "3 6 9 12 15\n",
      "4 8 12 16 20\n",
      "5 10 15 20 25\n"
     ]
    }
   ],
   "source": [
    "# Skorobogatov Alexander (matrix in the form of looping lists)\n",
    "def m(n):\n",
    "    for i in range(1,n+1):\n",
    "        mat = []\n",
    "        for j in range(1,n+1):\n",
    "            mat.append(i*j)\n",
    "        print(*mat)\n",
    "m(5)"
   ]
  }
 ],
 "metadata": {
  "kernelspec": {
   "display_name": "Python 3 (ipykernel)",
   "language": "python",
   "name": "python3"
  },
  "language_info": {
   "codemirror_mode": {
    "name": "ipython",
    "version": 3
   },
   "file_extension": ".py",
   "mimetype": "text/x-python",
   "name": "python",
   "nbconvert_exporter": "python",
   "pygments_lexer": "ipython3",
   "version": "3.9.12"
  }
 },
 "nbformat": 4,
 "nbformat_minor": 5
}
