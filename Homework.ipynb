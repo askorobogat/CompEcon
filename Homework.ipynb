{
 "cells": [
  {
   "cell_type": "markdown",
   "id": "acc9d894",
   "metadata": {},
   "source": [
    "### Computational Economics\n",
    "Alexander Skorobogatov"
   ]
  },
  {
   "cell_type": "markdown",
   "id": "67589c1b",
   "metadata": {},
   "source": [
    "# Homework"
   ]
  },
  {
   "cell_type": "markdown",
   "id": "65a9ad08",
   "metadata": {},
   "source": [
    "## Task 1. GLS with an arbitrary variance-covariance matrix\n",
    "\n",
    "Consider a model\n",
    "$$\n",
    "y = X b + \\varepsilon, \\; \\varepsilon \\sim \\Psi.\n",
    "$$\n",
    "\n",
    "where $\\Psi$ is a random positive definite matrix of your choice\n",
    "\n",
    "1. Obtain OLS estimates.  \n",
    "2. Obtain GLS estimates. You can use the GLS formula\n",
    "\n",
    "$$b_{GLS} = (X' \\Psi^{-1} X)^{-1} (X' \\Psi^{-1} y)$$\n",
    "\n",
    "3. Optional task -- write a loop to check consistency of both groups of estimates"
   ]
  },
  {
   "cell_type": "markdown",
   "id": "0839c6cf",
   "metadata": {},
   "source": [
    "## Task 2. Symbolic calculation: profit maximization\n",
    "\n",
    "A monopolist's demand and cost functions are as follows\n",
    "\n",
    "$$p(D) = a - b D$$  \n",
    "$$c(Q) = c + d Q^{2}$$\n",
    "\n",
    "1. Using sympy solve for p* and Q* maximizing the profit  \n",
    "2. Present the solution as a function of profit with p and Q as its arguments\n",
    "3. Visualize profit-price and profit-output relationships using plots\n",
    "\n",
    "For the problem and solution, see [H. Varian' textbook](https://faculty.ksu.edu.sa/sites/default/files/microeco-_varian.pdf), Appendix pp. 459-460."
   ]
  },
  {
   "cell_type": "markdown",
   "id": "cc0194ea",
   "metadata": {},
   "source": [
    "## Task 3. Data manipulation using pandas\n",
    "\n",
    "1. Read [Dow Jones](https://github.com/askorobogat/CompEcon/raw/main/Dow_1914.xls) over the period 1914-1968 (index 1) and [S&P500](https://github.com/askorobogat/CompEcon/raw/main/SandP500.xlsx) over the last two decades (index 2).  \n",
    "2. Normalize both indeces subtracting their mean and dividing by their standard deviations.  \n",
    "3. Predict the development of the crisis of 2020 up to 2059 as if this would unfold exactly as 1929 crisis developed up to 1968. For this take first differences of the normalized index 1 and append the normalized index 2.\n",
    "4. Visualize using plot."
   ]
  },
  {
   "cell_type": "markdown",
   "id": "48a58863",
   "metadata": {},
   "source": [
    "## Task 4. Autoregressive model in matrix form\n",
    "\n",
    "Consider the AR(1) model\n",
    "\n",
    "$$\n",
    "y_t = a y_{t-1} + \\varepsilon, \\; \\varepsilon \\sim N(0, 1).\n",
    "$$\n",
    "\n",
    "We can represent it in the form\n",
    "\n",
    "$$\n",
    "Ay = \\varepsilon \\quad \\quad \\varepsilon \\sim N(0, 1)\n",
    "$$\n",
    "\n",
    "where $ A $ is\n",
    "\n",
    "$$\n",
    "A = \\begin{bmatrix} 1  & 0 & \\cdots & 0 & 0  \\cr\n",
    "                      -a  & 1 & \\cdots & 0 & 0 \\cr\n",
    "                      \\vdots & \\vdots & \\cdots & \\vdots & \\vdots \\cr\n",
    "                      \\vdots & \\vdots & \\cdots & 1 & 0 \\cr\n",
    "                      0 & 0 & \\cdots & -a & 1 \\end{bmatrix}\n",
    "$$\n",
    "\n",
    "and $ y $ and $ \\varepsilon $ are $ (T x 1) $ vectors\n",
    "\n",
    "Generate an AR(1) series with $ T=200 $ and $ \\alpha = 0.5 $\n",
    "using matrix algebra, and make a plot of $ y_t $."
   ]
  },
  {
   "cell_type": "markdown",
   "id": "9f3d150d",
   "metadata": {},
   "source": [
    "## Task 5. SVAR\n",
    "\n",
    "1. Create four random time series variables related like in [this example](https://github.com/askorobogat/CompEcon/blob/main/Topic%206.1%20SVAR.ipynb)\n",
    "2. Reproduce the analysis like in the example\n",
    "3. Comment the results: whether your variables impact each other as predicted by the data-generated process?"
   ]
  }
 ],
 "metadata": {
  "kernelspec": {
   "display_name": "Python 3 (ipykernel)",
   "language": "python",
   "name": "python3"
  },
  "language_info": {
   "codemirror_mode": {
    "name": "ipython",
    "version": 3
   },
   "file_extension": ".py",
   "mimetype": "text/x-python",
   "name": "python",
   "nbconvert_exporter": "python",
   "pygments_lexer": "ipython3",
   "version": "3.9.12"
  }
 },
 "nbformat": 4,
 "nbformat_minor": 5
}
