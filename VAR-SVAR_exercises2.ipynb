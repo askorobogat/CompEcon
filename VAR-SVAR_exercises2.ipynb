{
 "cells": [
  {
   "cell_type": "markdown",
   "id": "53c3fa18",
   "metadata": {},
   "source": [
    "### Computational Economics\n",
    "Alexander Skorobogatov"
   ]
  },
  {
   "cell_type": "markdown",
   "id": "4bbf20e4",
   "metadata": {},
   "source": [
    "### I.\n",
    "VAR(1) is given by:\n",
    "$$x_{t} = a_{11} x_{t-1} + a_{12} y_{t-1} + u_t$$ \n",
    "$$y_{t} = a_{21} x_{t-1} + a_{22} y_{t-1} + v_t$$  \n",
    "or in matrix form\n",
    "$$x_{t} = A x_{t-1} + \\epsilon_{t}$$\n",
    "where $\\epsilon_{t}$ ~ $N(0,\\Sigma)$\n",
    "\n",
    "1. Create a matrix A of a stable system (absolute eigenvalues of $A$ should be less than unity)  \n",
    "2. Simulate a dataset in line with A (calculate the eigenvalues)  \n",
    "3. Calculate the reverse polynomial\n",
    "4. Visualize the system  \n",
    "5. Estimate VAR model and report the results\n",
    "6. Report irfs\n",
    "7. Calculate irfs manually to check the way it is done by the program"
   ]
  },
  {
   "cell_type": "code",
   "execution_count": 4,
   "id": "143007cb",
   "metadata": {},
   "outputs": [],
   "source": [
    "import pandas as pd\n",
    "import numpy as np\n",
    "import matplotlib.pyplot as plt"
   ]
  },
  {
   "cell_type": "code",
   "execution_count": 337,
   "id": "dba1f0b0",
   "metadata": {},
   "outputs": [
    {
     "name": "stdout",
     "output_type": "stream",
     "text": [
      "[[-0.09138256 -0.17945011]\n",
      " [-0.40393215 -0.19381171]]\n"
     ]
    },
    {
     "data": {
      "text/plain": [
       "(array([ 0.13146235, -0.41665662]),\n",
       " array([[ 0.6271942 ,  0.48305373],\n",
       "        [-0.77886291,  0.87559071]]))"
      ]
     },
     "execution_count": 337,
     "metadata": {},
     "output_type": "execute_result"
    }
   ],
   "source": [
    "# 1\n",
    "A = np.random.uniform(-0.5,0.5,(2,2))\n",
    "print(A)\n",
    "np.linalg.eig(A)"
   ]
  },
  {
   "cell_type": "code",
   "execution_count": 338,
   "id": "3468fe10",
   "metadata": {},
   "outputs": [
    {
     "name": "stdout",
     "output_type": "stream",
     "text": [
      "0.30043440576564967\n",
      "-2.4000578605292415\n",
      "7.606740708287303\n"
     ]
    }
   ],
   "source": [
    "# 1.2\n",
    "a,b,c = (A[0,0]*A[1,1] - A[0,1]*A[1,0]),-(A[0,0]+A[1,1]),1\n",
    "d = (-b)**2 - 4*(a*c)\n",
    "r1 = (-b + np.sqrt(d))/(2*a)\n",
    "r2 = (-b - np.sqrt(d))/(2*a)\n",
    "print(d)\n",
    "print(r1)\n",
    "print(r2)"
   ]
  },
  {
   "cell_type": "markdown",
   "id": "d544345d",
   "metadata": {},
   "source": [
    "### 3. Reverse characteristic polynomial a different way"
   ]
  },
  {
   "cell_type": "code",
   "execution_count": 2,
   "id": "7d3127fe",
   "metadata": {},
   "outputs": [],
   "source": [
    "from sympy import solve, symbols, MatrixSymbol,Eq,collect\n",
    "from sympy.matrices import Matrix\n",
    "from sympy import Identity"
   ]
  },
  {
   "cell_type": "code",
   "execution_count": 5,
   "id": "34587d7e",
   "metadata": {},
   "outputs": [
    {
     "data": {
      "text/plain": [
       "[-15.4858377035486, 2.00000000000000, 2.15250437021530]"
      ]
     },
     "execution_count": 5,
     "metadata": {},
     "output_type": "execute_result"
    }
   ],
   "source": [
    "# Reproduce the example from Lutkepohl p. 17\n",
    "I = Identity(3)\n",
    "X1 = MatrixSymbol('X', 3, 3)\n",
    "z = symbols('z')\n",
    "a = np.array([[0.5,0,0],[0.1,0.1,0.3],[0,0.2,0.3]])\n",
    "AA = Matrix(a)\n",
    "X2 = Matrix(I - X1@z)\n",
    "X3 = X2.subs(X1,AA)\n",
    "X4 = X3.det()\n",
    "solve(Eq(X4,0),z)"
   ]
  },
  {
   "cell_type": "code",
   "execution_count": 8,
   "id": "8af8c4ac",
   "metadata": {},
   "outputs": [
    {
     "data": {
      "text/latex": [
       "$\\displaystyle \\left[\\begin{matrix}1 - 0.5 z & 0 & 0\\\\- 0.1 z & 1 - 0.1 z & - 0.3 z\\\\0 & - 0.2 z & 1 - 0.3 z\\end{matrix}\\right]$"
      ],
      "text/plain": [
       "Matrix([\n",
       "[1 - 0.5*z,         0,         0],\n",
       "[   -0.1*z, 1 - 0.1*z,    -0.3*z],\n",
       "[        0,    -0.2*z, 1 - 0.3*z]])"
      ]
     },
     "execution_count": 8,
     "metadata": {},
     "output_type": "execute_result"
    }
   ],
   "source": [
    "X3"
   ]
  },
  {
   "cell_type": "code",
   "execution_count": 9,
   "id": "922e2947",
   "metadata": {},
   "outputs": [
    {
     "data": {
      "text/latex": [
       "$\\displaystyle 0.015 z^{3} + 0.17 z^{2} - 0.9 z + 1$"
      ],
      "text/plain": [
       "0.015*z**3 + 0.17*z**2 - 0.9*z + 1"
      ]
     },
     "execution_count": 9,
     "metadata": {},
     "output_type": "execute_result"
    }
   ],
   "source": [
    "X4"
   ]
  },
  {
   "cell_type": "code",
   "execution_count": 348,
   "id": "11bd1cfa",
   "metadata": {},
   "outputs": [
    {
     "data": {
      "text/plain": [
       "[-2.40005786052924, 7.60674070828730]"
      ]
     },
     "execution_count": 348,
     "metadata": {},
     "output_type": "execute_result"
    }
   ],
   "source": [
    "# Or from my example here\n",
    "I = Identity(2)\n",
    "X1 = MatrixSymbol('X', 2, 2)\n",
    "z = symbols('z')\n",
    "AA = Matrix(A)\n",
    "X2 = Matrix(I - X1@z)\n",
    "X3 = X2.subs(X1,AA)\n",
    "X4 = X3.det()\n",
    "solve(Eq(X4,0),z)"
   ]
  },
  {
   "cell_type": "code",
   "execution_count": 361,
   "id": "64689570",
   "metadata": {},
   "outputs": [
    {
     "data": {
      "text/plain": [
       "[<matplotlib.lines.Line2D at 0x1b09cea86d0>]"
      ]
     },
     "execution_count": 361,
     "metadata": {},
     "output_type": "execute_result"
    },
    {
     "data": {
      "image/png": "[encoded data removed]",
      "text/plain": [
       "<Figure size 432x288 with 1 Axes>"
      ]
     },
     "metadata": {
      "needs_background": "light"
     },
     "output_type": "display_data"
    }
   ],
   "source": [
    "# 4\n",
    "T = 1000\n",
    "mean = [0, 0]\n",
    "cov = [[1, 0.5], [0.5, 1]] \n",
    "e1,e2 = np.random.multivariate_normal(mean, cov, T).T\n",
    "y = []\n",
    "z = []\n",
    "y.append(1)\n",
    "z.append(1)\n",
    "for t in range(1,T):\n",
    "    a = A[0,0]*y[t-1] + A[0,1]*z[t-1] + e1[t]\n",
    "    b = A[1,0]*y[t-1] + A[1,1]*z[t-1] + e2[t]\n",
    "    y.append(a)\n",
    "    z.append(b)\n",
    "plt.plot(y, label = \"line 1\")\n",
    "plt.plot(z, label = \"line 2\")"
   ]
  },
  {
   "cell_type": "code",
   "execution_count": 357,
   "id": "b4e00848",
   "metadata": {},
   "outputs": [],
   "source": [
    "import statsmodels.api as sm\n",
    "from statsmodels.tsa.api import VAR, SVAR"
   ]
  },
  {
   "cell_type": "code",
   "execution_count": 362,
   "id": "ddc7a537",
   "metadata": {},
   "outputs": [
    {
     "name": "stdout",
     "output_type": "stream",
     "text": [
      "[[[-0.13879687 -0.12653043]\n",
      "  [-0.45520649 -0.19656712]]]\n",
      "[[-0.09138256 -0.17945011]\n",
      " [-0.40393215 -0.19381171]]\n"
     ]
    }
   ],
   "source": [
    "# 5\n",
    "data = np.array([y,z]).T\n",
    "model = VAR(data)\n",
    "res = model.fit(1)\n",
    "print(res.coefs)\n",
    "print(A)"
   ]
  },
  {
   "cell_type": "code",
   "execution_count": 384,
   "id": "ef99f4af",
   "metadata": {},
   "outputs": [
    {
     "name": "stdout",
     "output_type": "stream",
     "text": [
      "[[[ 1.          0.        ]\n",
      "  [ 0.          1.        ]]\n",
      "\n",
      " [[-0.13879687 -0.12653043]\n",
      "  [-0.45520649 -0.19656712]]\n",
      "\n",
      " [[ 0.07686204  0.04243375]\n",
      "  [ 0.15265987  0.09623611]]]\n",
      "\n",
      " Manually t+1 is \n",
      "[[[-0.13879687 -0.12653043]\n",
      "  [-0.45520649 -0.19656712]]]\n",
      "Manually t+2 is \n",
      "[[[0.07686204 0.04243375]\n",
      "  [0.15265987 0.09623611]]]\n"
     ]
    }
   ],
   "source": [
    "# 6\n",
    "print(res.irf(2).irfs) # program\n",
    "print(f\"\\n Manually t+1 is \\n{res.coefs@np.eye(2)}\") # manually t+1\n",
    "print(f\"Manually t+2 is \\n{np.linalg.matrix_power(res.coefs,2)@np.eye(2)}\") # manually t+2"
   ]
  },
  {
   "cell_type": "markdown",
   "id": "ca0c87cf",
   "metadata": {},
   "source": [
    "### VAR: from structural to reduced and back\n",
    "1. Create structural and reduced form dataset without the error to check that the resultant series are the same\n",
    "2. Compare numbers and plots\n",
    "3. Create a dataset with zero error covariance\n",
    "4. Compare A and coefs\n",
    "5. Compare A and A_est\n",
    "6. Compare B_est and the same done manually"
   ]
  },
  {
   "cell_type": "code",
   "execution_count": 385,
   "id": "c3aa7bc3",
   "metadata": {},
   "outputs": [
    {
     "name": "stdout",
     "output_type": "stream",
     "text": [
      "[[ 0.45787642  0.28663193]\n",
      " [ 0.40025203 -0.02511126]]\n",
      "[[1.  1.1]\n",
      " [0.  1. ]]\n",
      "[[ 0.01759919  0.31425432]\n",
      " [ 0.40025203 -0.02511126]]\n",
      "[1, 0.3318535075261948, 0.1237299579802481, 0.04095803221790029, 0.015309870148213143, 0.005054831335475815]\n",
      "[1, 0.37514076478130187, 0.12340478082932209, 0.04642431667261253, 0.015227762213744217, 0.005745418230187758]\n",
      "[1, 0.3318535075261948, 0.12372995798024813, 0.04095803221790028, 0.015309870148213152, 0.005054831335475814]\n",
      "[1, 0.37514076478130187, 0.12340478082932209, 0.04642431667261254, 0.015227762213744212, 0.005745418230187762]\n"
     ]
    }
   ],
   "source": [
    "# 1\n",
    "A = np.random.uniform(-0.5,0.5,(2,2))\n",
    "print(A)\n",
    "a10 = -1.1\n",
    "B = np.eye(2)\n",
    "B[0,1] = -a10\n",
    "print(B)\n",
    "AA = np.linalg.inv(B)@A\n",
    "print(AA)\n",
    "T = 100\n",
    "y1 = []\n",
    "z1 = []\n",
    "#y1.append(0)\n",
    "#z1.append(0)\n",
    "y1.append(1)\n",
    "z1.append(1)\n",
    "for t in range(1,T+1):\n",
    "    b = A[1,0]*y1[t-1] + A[1,1]*z1[t-1]\n",
    "    z1.append(b)\n",
    "    a = A[0,0]*y1[t-1] + A[0,1]*z1[t-1] + a10*z1[t]\n",
    "    y1.append(a)\n",
    "\n",
    "y2 = []\n",
    "z2 = []   \n",
    "#y2.append(0)\n",
    "#z2.append(0)\n",
    "y2.append(1)\n",
    "z2.append(1)\n",
    "for t in range(1,T+1):\n",
    "    a = AA[0,0]*y2[t-1] + AA[0,1]*z2[t-1]\n",
    "    b = AA[1,0]*y2[t-1] + AA[1,1]*z2[t-1]\n",
    "    y2.append(a)\n",
    "    z2.append(b)\n",
    "    \n",
    "print(y1[:6])\n",
    "print(z1[:6])\n",
    "print(y2[:6])\n",
    "print(z2[:6])"
   ]
  },
  {
   "cell_type": "code",
   "execution_count": 386,
   "id": "78061b78",
   "metadata": {},
   "outputs": [
    {
     "data": {
      "text/plain": [
       "[<matplotlib.lines.Line2D at 0x1b09df0fa60>]"
      ]
     },
     "execution_count": 386,
     "metadata": {},
     "output_type": "execute_result"
    },
    {
     "data": {
      "image/png": "[encoded data removed]",
      "text/plain": [
       "<Figure size 432x288 with 1 Axes>"
      ]
     },
     "metadata": {
      "needs_background": "light"
     },
     "output_type": "display_data"
    }
   ],
   "source": [
    "# 2\n",
    "plt.plot(y1, label = \"line 1\")\n",
    "plt.plot(z1, label = \"line 2\")"
   ]
  },
  {
   "cell_type": "code",
   "execution_count": 387,
   "id": "a6cd94a2",
   "metadata": {},
   "outputs": [
    {
     "data": {
      "text/plain": [
       "[<matplotlib.lines.Line2D at 0x1b09df577c0>]"
      ]
     },
     "execution_count": 387,
     "metadata": {},
     "output_type": "execute_result"
    },
    {
     "data": {
      "image/png": "[encoded data removed]",
      "text/plain": [
       "<Figure size 432x288 with 1 Axes>"
      ]
     },
     "metadata": {
      "needs_background": "light"
     },
     "output_type": "display_data"
    }
   ],
   "source": [
    "plt.plot(y2, label = \"line 1\")\n",
    "plt.plot(z2, label = \"line 2\")"
   ]
  },
  {
   "cell_type": "code",
   "execution_count": 388,
   "id": "46ef039c",
   "metadata": {},
   "outputs": [
    {
     "name": "stdout",
     "output_type": "stream",
     "text": [
      "[[ 0.3860028  -0.09550924]\n",
      " [ 0.44222117 -0.01164719]]\n",
      "[[1.  0.6]\n",
      " [0.  1. ]]\n",
      "[[ 0.1206701  -0.08852093]\n",
      " [ 0.44222117 -0.01164719]]\n"
     ]
    },
    {
     "data": {
      "text/plain": [
       "[<matplotlib.lines.Line2D at 0x1b09dfd2940>]"
      ]
     },
     "execution_count": 388,
     "metadata": {},
     "output_type": "execute_result"
    },
    {
     "data": {
      "image/png": "[encoded data removed]",
      "text/plain": [
       "<Figure size 432x288 with 1 Axes>"
      ]
     },
     "metadata": {
      "needs_background": "light"
     },
     "output_type": "display_data"
    }
   ],
   "source": [
    "# 3\n",
    "A = np.random.uniform(-0.5,0.5,(2,2))\n",
    "print(A)\n",
    "a10 = -0.6\n",
    "B = np.eye(2)\n",
    "B[0,1] = -a10\n",
    "print(B)\n",
    "AA = np.linalg.inv(B)@A\n",
    "print(AA)\n",
    "T = 1000\n",
    "mean = [0, 0]\n",
    "cov = [[1, 0], [0, 1]] \n",
    "e1,e2 = np.random.multivariate_normal(mean, cov, T).T\n",
    "y1 = []\n",
    "z1 = []\n",
    "#y1.append(0)\n",
    "#z1.append(0)\n",
    "y1.append(1)\n",
    "z1.append(1)\n",
    "for t in range(1,T):\n",
    "    b = A[1,0]*y1[t-1] + A[1,1]*z1[t-1] + e1[t]\n",
    "    z1.append(b)\n",
    "    a = A[0,0]*y1[t-1] + A[0,1]*z1[t-1] + a10*z1[t] + e2[t]\n",
    "    y1.append(a)\n",
    "plt.plot(y1, label = \"line 1\")\n",
    "plt.plot(z1, label = \"line 2\")"
   ]
  },
  {
   "cell_type": "code",
   "execution_count": 392,
   "id": "1432c70d",
   "metadata": {},
   "outputs": [
    {
     "name": "stderr",
     "output_type": "stream",
     "text": [
      "C:\\Users\\Alex\\anaconda3\\lib\\site-packages\\statsmodels\\base\\model.py:604: ConvergenceWarning: Maximum Likelihood optimization failed to converge. Check mle_retvals\n",
      "  warnings.warn(\"Maximum Likelihood optimization failed to \"\n"
     ]
    }
   ],
   "source": [
    "# 3. SVAR Estimates\n",
    "\n",
    "# Matrices A B\n",
    "A2 = np.asarray([[1,'E'],[0,1]])\n",
    "B2 = np.asarray([['E',0],[0,'E']])\n",
    "\n",
    "# Model and results\n",
    "data = np.array([y1,z1]).T\n",
    "mymodel = SVAR(data, svar_type='AB', A=A2, B=B2, missing='drop')\n",
    "res = mymodel.fit(maxiter=10000, maxfun=10000)"
   ]
  },
  {
   "cell_type": "code",
   "execution_count": 394,
   "id": "95373843",
   "metadata": {},
   "outputs": [
    {
     "name": "stdout",
     "output_type": "stream",
     "text": [
      "[[[ 0.08038859 -0.17337835]\n",
      "  [ 0.42537896  0.00616689]]]\n",
      "[[ 0.1206701  -0.08852093]\n",
      " [ 0.44222117 -0.01164719]]\n",
      "[[ 0.3860028  -0.09550924]\n",
      " [ 0.44222117 -0.01164719]]\n"
     ]
    }
   ],
   "source": [
    "# 4\n",
    "print(res.coefs)\n",
    "print(AA)\n",
    "print(A)"
   ]
  },
  {
   "cell_type": "code",
   "execution_count": 397,
   "id": "df2d6efe",
   "metadata": {},
   "outputs": [
    {
     "name": "stdout",
     "output_type": "stream",
     "text": [
      "[[1.        0.6169369]\n",
      " [0.        1.       ]]\n",
      "[[1.  0.6]\n",
      " [0.  1. ]]\n"
     ]
    }
   ],
   "source": [
    "# 5\n",
    "print(res.A)\n",
    "print(B)"
   ]
  },
  {
   "cell_type": "code",
   "execution_count": 411,
   "id": "9d8a25b5",
   "metadata": {},
   "outputs": [
    {
     "name": "stdout",
     "output_type": "stream",
     "text": [
      "1.446859360794933\n",
      "0.9841635018712115\n"
     ]
    },
    {
     "data": {
      "text/plain": [
       "array([[1.03706583, 0.        ],\n",
       "       [0.        , 0.99354309]])"
      ]
     },
     "execution_count": 411,
     "metadata": {},
     "output_type": "execute_result"
    }
   ],
   "source": [
    "# 6 ?\n",
    "print(res.resid[:,0].var())\n",
    "print(res.resid[:,1].var())\n",
    "res.B"
   ]
  },
  {
   "cell_type": "code",
   "execution_count": 408,
   "id": "de2624e2",
   "metadata": {},
   "outputs": [
    {
     "data": {
      "text/plain": [
       "array([[1.03706583, 0.        ],\n",
       "       [0.        , 0.99354309]])"
      ]
     },
     "execution_count": 408,
     "metadata": {},
     "output_type": "execute_result"
    }
   ],
   "source": [
    "res.B"
   ]
  },
  {
   "cell_type": "markdown",
   "id": "5d1ba369",
   "metadata": {},
   "source": [
    "### Calculate irfs from SVAR manually\n",
    "1. Report irfs  \n",
    "2. Calculate manually  \n",
    "3. Calculate the Cholesky decomposition from the example"
   ]
  },
  {
   "cell_type": "code",
   "execution_count": 412,
   "id": "16d75d4b",
   "metadata": {},
   "outputs": [
    {
     "data": {
      "text/plain": [
       "array([[[ 1.03706583, -0.6129534 ],\n",
       "        [ 0.        ,  0.99354309]],\n",
       "\n",
       "       [[ 0.08336826, -0.22153332],\n",
       "        [ 0.44114598, -0.25461041]],\n",
       "\n",
       "       [[-0.06978331,  0.02633518],\n",
       "        [ 0.0381836 , -0.09580577]],\n",
       "\n",
       "       [[-0.01222999,  0.01872769],\n",
       "        [-0.02944888,  0.01061161]]])"
      ]
     },
     "execution_count": 412,
     "metadata": {},
     "output_type": "execute_result"
    }
   ],
   "source": [
    "# 1.\n",
    "res.irf(3).svar_irfs"
   ]
  },
  {
   "cell_type": "code",
   "execution_count": 414,
   "id": "4420282d",
   "metadata": {},
   "outputs": [
    {
     "data": {
      "text/plain": [
       "array([[ 1.03706583, -0.6129534 ],\n",
       "       [ 0.        ,  0.99354309]])"
      ]
     },
     "execution_count": 414,
     "metadata": {},
     "output_type": "execute_result"
    }
   ],
   "source": [
    "# 2\n",
    "irf1 = np.linalg.inv(res.A)@res.B # for t\n",
    "irf1"
   ]
  },
  {
   "cell_type": "code",
   "execution_count": 418,
   "id": "28157767",
   "metadata": {},
   "outputs": [
    {
     "name": "stdout",
     "output_type": "stream",
     "text": [
      "[[[ 0.08336826 -0.22153332]\n",
      "  [ 0.44114598 -0.25461041]]]\n",
      "[[[-0.06978331  0.02633518]\n",
      "  [ 0.0381836  -0.09580577]]]\n",
      "[[[-0.01222999  0.01872769]\n",
      "  [-0.02944888  0.01061161]]]\n"
     ]
    }
   ],
   "source": [
    "# then use coefs\n",
    "print(res.coefs@irf1) # t+1\n",
    "print(np.linalg.matrix_power(res.coefs,2)@irf1) # t+2\n",
    "print(np.linalg.matrix_power(res.coefs,3)@irf1) # t+3"
   ]
  },
  {
   "cell_type": "code",
   "execution_count": 142,
   "id": "c6b345c4",
   "metadata": {},
   "outputs": [
    {
     "data": {
      "text/plain": [
       "array([[2.25, 0.  , 0.  ],\n",
       "       [0.  , 1.  , 0.5 ],\n",
       "       [0.  , 0.5 , 0.74]])"
      ]
     },
     "execution_count": 142,
     "metadata": {},
     "output_type": "execute_result"
    }
   ],
   "source": [
    "# Cholesky from Lutkepohl p.59\n",
    "eu = np.array([[2.25,0,0],[0,1,0.5],[0,0.5,0.74]])\n",
    "eu"
   ]
  },
  {
   "cell_type": "code",
   "execution_count": 144,
   "id": "f2697a43",
   "metadata": {},
   "outputs": [
    {
     "data": {
      "text/plain": [
       "array([[1.5, 0. , 0. ],\n",
       "       [0. , 1. , 0. ],\n",
       "       [0. , 0.5, 0.7]])"
      ]
     },
     "execution_count": 144,
     "metadata": {},
     "output_type": "execute_result"
    }
   ],
   "source": [
    "P = np.linalg.cholesky(eu)\n",
    "P"
   ]
  },
  {
   "cell_type": "code",
   "execution_count": 145,
   "id": "b883dbd8",
   "metadata": {},
   "outputs": [
    {
     "data": {
      "text/plain": [
       "array([[0.75, 0.  , 0.  ],\n",
       "       [0.15, 0.25, 0.21],\n",
       "       [0.  , 0.35, 0.21]])"
      ]
     },
     "execution_count": 145,
     "metadata": {},
     "output_type": "execute_result"
    }
   ],
   "source": [
    "a@P"
   ]
  },
  {
   "cell_type": "code",
   "execution_count": 146,
   "id": "a543619b",
   "metadata": {},
   "outputs": [
    {
     "data": {
      "text/plain": [
       "array([[0.375, 0.   , 0.   ],\n",
       "       [0.09 , 0.13 , 0.084],\n",
       "       [0.03 , 0.155, 0.105]])"
      ]
     },
     "execution_count": 146,
     "metadata": {},
     "output_type": "execute_result"
    }
   ],
   "source": [
    "a@a@P"
   ]
  }
 ],
 "metadata": {
  "kernelspec": {
   "display_name": "Python 3 (ipykernel)",
   "language": "python",
   "name": "python3"
  },
  "language_info": {
   "codemirror_mode": {
    "name": "ipython",
    "version": 3
   },
   "file_extension": ".py",
   "mimetype": "text/x-python",
   "name": "python",
   "nbconvert_exporter": "python",
   "pygments_lexer": "ipython3",
   "version": "3.9.12"
  }
 },
 "nbformat": 4,
 "nbformat_minor": 5
}
