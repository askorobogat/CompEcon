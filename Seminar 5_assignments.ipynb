{
 "cells": [
  {
   "cell_type": "markdown",
   "id": "c051003c",
   "metadata": {},
   "source": [
    "### Computational Economics\n",
    "Alexander Skorobogatov"
   ]
  },
  {
   "cell_type": "markdown",
   "id": "80710da5",
   "metadata": {},
   "source": [
    "# Seminar 5\n",
    "This seminar is devoted to VAR/SVAR. For related materials when preparing the assignments, please see [Intro to VAR](https://www.statsmodels.org/dev/vector_ar.html) and [Topic 6](\n",
    "https://github.com/askorobogat/CompEcon/blob/main/Topic%206.1%20SVAR.ipynb)."
   ]
  },
  {
   "cell_type": "markdown",
   "id": "4bbf20e4",
   "metadata": {},
   "source": [
    "### I. VAR\n",
    "VAR(1) is given by:\n",
    "$$x_{t} = a_{11} x_{t-1} + a_{12} y_{t-1} + u_t$$ \n",
    "$$y_{t} = a_{21} x_{t-1} + a_{22} y_{t-1} + v_t$$  \n",
    "or in matrix form\n",
    "$$X_{t} = A x_{t-1} + \\epsilon_{t}$$\n",
    "where $\\epsilon_{t}$ ~ $N(0,\\Sigma)$\n",
    "\n",
    "1. Create a matrix A of a stable system (absolute eigenvalues of $A$ should be less than unity)  \n",
    "2. Simulate a dataset in line with A (calculate the eigenvalues)  \n",
    "3. Visualize the system  \n",
    "4. Estimate VAR model and report the results\n",
    "5. Visualize impulse-response plot\n",
    "6. Forecast error variance decomposition\n",
    "7. Repeat steps 1-6 adding intercept column"
   ]
  },
  {
   "cell_type": "markdown",
   "id": "d021ad45",
   "metadata": {},
   "source": [
    "### II. SVAR\n",
    "SVAR(1) is given by:\n",
    "$$x_{t} = -a_{10} y_{t} + a_{11} x_{t-1} + a_{12} y_{t-1} + u_t$$ \n",
    "$$y_{t} = -a_{20} x_{t} + a_{21} x_{t-1} + a_{22} y_{t-1} + v_t$$  \n",
    "\n",
    "with the restriction that either $a_{10}$, or $a_{20} = 0$.\n",
    "\n",
    "1. Create a matrix A of a stable system (absolute eigenvalues of $A$ should be less than unity)  \n",
    "2. Simulate a dataset in line with A (calculate the eigenvalues)  \n",
    "3. Visualize the system  \n",
    "4. Estimate SVAR model and report the results\n",
    "5. Visualize impulse-response plot\n",
    "6. Forecast error variance decomposition"
   ]
  },
  {
   "cell_type": "code",
   "execution_count": null,
   "id": "a56ad857",
   "metadata": {},
   "outputs": [],
   "source": []
  }
 ],
 "metadata": {
  "kernelspec": {
   "display_name": "Python 3 (ipykernel)",
   "language": "python",
   "name": "python3"
  },
  "language_info": {
   "codemirror_mode": {
    "name": "ipython",
    "version": 3
   },
   "file_extension": ".py",
   "mimetype": "text/x-python",
   "name": "python",
   "nbconvert_exporter": "python",
   "pygments_lexer": "ipython3",
   "version": "3.9.12"
  }
 },
 "nbformat": 4,
 "nbformat_minor": 5
}
