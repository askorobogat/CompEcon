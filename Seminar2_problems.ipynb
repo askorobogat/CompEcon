{
 "cells": [
  {
   "cell_type": "markdown",
   "id": "5c03ef04",
   "metadata": {},
   "source": [
    "# Seminar 2"
   ]
  },
  {
   "cell_type": "markdown",
   "id": "4a207169",
   "metadata": {},
   "source": [
    "### Cycles"
   ]
  },
  {
   "cell_type": "markdown",
   "id": "d56874ed",
   "metadata": {},
   "source": [
    "1. Function takes in an integer n and returns the first n rows of the Pascal triangle (for the definition, see Wiki)"
   ]
  },
  {
   "cell_type": "markdown",
   "id": "7c0fa069",
   "metadata": {},
   "source": [
    "2.\tFunction inputs a string of several phrases and returns the first and the last words for each"
   ]
  },
  {
   "cell_type": "markdown",
   "id": "9c06bb2d",
   "metadata": {},
   "source": [
    "3.\tFunction inputs an integer n and returns a string containing all the digits of n written verbally"
   ]
  },
  {
   "cell_type": "markdown",
   "id": "4948f2ed",
   "metadata": {},
   "source": [
    "### Conditions"
   ]
  },
  {
   "cell_type": "markdown",
   "id": "42e85fff",
   "metadata": {},
   "source": [
    "4. Function checks whether the number n is odd. This should return True/False."
   ]
  },
  {
   "cell_type": "markdown",
   "id": "c15dc65e",
   "metadata": {},
   "source": [
    "5. Function takes in an integer and calcultes the number of deviders."
   ]
  },
  {
   "cell_type": "markdown",
   "id": "d31f22c9",
   "metadata": {},
   "source": [
    "6. Function checks whether n is a prime number. This returns True/False."
   ]
  },
  {
   "cell_type": "markdown",
   "id": "a78ecd5c",
   "metadata": {},
   "source": [
    "7. Function checks whether a list of numbers is increasing. An additional parameter checks strict/nonstrict increasing."
   ]
  },
  {
   "cell_type": "markdown",
   "id": "59f71bb0",
   "metadata": {},
   "source": [
    "8. Function takes in a list of list_of_numbers and returns average."
   ]
  },
  {
   "cell_type": "markdown",
   "id": "1c6cd9ff",
   "metadata": {},
   "source": [
    "9. Function takes in a list of numbers and boolean 'unbiased'. This returns sample variance, which is unbiased if the parameter is True (default value) and biased otherwise."
   ]
  },
  {
   "cell_type": "markdown",
   "id": "6f569d8b",
   "metadata": {},
   "source": [
    "10. Function calculates a grade according to the formula $ x_1*0.6 + x_2*0.4 $ and rounded to the nearest integer."
   ]
  },
  {
   "cell_type": "markdown",
   "id": "75973eca",
   "metadata": {},
   "source": [
    "### Dictionaries and tuples"
   ]
  },
  {
   "cell_type": "markdown",
   "id": "e3da32ff",
   "metadata": {},
   "source": [
    "11. Function takes in a dictionary and a number and checks whether the former contains value more the the number."
   ]
  },
  {
   "cell_type": "markdown",
   "id": "0208c924",
   "metadata": {},
   "source": [
    "12. Function takes in a dictionary and returns a list of consistently following kes and values."
   ]
  },
  {
   "cell_type": "markdown",
   "id": "47480be2",
   "metadata": {},
   "source": [
    "13. Function takes in a list of strings and returns a dictionary having the strings as its keys and their length (in symbols) as its values."
   ]
  },
  {
   "cell_type": "markdown",
   "id": "2eb4e481",
   "metadata": {},
   "source": [
    "14. Function takes in a list of strings and returns one, which follows first after sorting by alphabet."
   ]
  },
  {
   "cell_type": "markdown",
   "id": "ae62e02f",
   "metadata": {},
   "source": [
    "15. Function takes in a list of tuples (name and value) and returns the value corresponding to the first name after alphabetical sorting."
   ]
  }
 ],
 "metadata": {
  "kernelspec": {
   "display_name": "Python 3 (ipykernel)",
   "language": "python",
   "name": "python3"
  },
  "language_info": {
   "codemirror_mode": {
    "name": "ipython",
    "version": 3
   },
   "file_extension": ".py",
   "mimetype": "text/x-python",
   "name": "python",
   "nbconvert_exporter": "python",
   "pygments_lexer": "ipython3",
   "version": "3.9.12"
  }
 },
 "nbformat": 4,
 "nbformat_minor": 5
}
