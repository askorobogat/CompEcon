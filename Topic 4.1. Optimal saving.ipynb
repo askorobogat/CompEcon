{
 "cells": [
  {
   "cell_type": "markdown",
   "id": "05370634",
   "metadata": {},
   "source": [
    "### Computational Economics\n",
    "Alexander Skorobogatov"
   ]
  },
  {
   "cell_type": "markdown",
   "id": "242b923a",
   "metadata": {},
   "source": [
    "# Topic 4.1. An optimal consumption/saving model"
   ]
  },
  {
   "cell_type": "markdown",
   "id": "8a952ced",
   "metadata": {},
   "source": [
    "The setup of the model:\n",
    "1. An individual earns interest in the account $r$. Hence, his saving grows in line with the formula:\n",
    "\n",
    "$$\\dot{x} = rx - c$$\n",
    "\n",
    "\n",
    "\n",
    "2. His lifetime is finite $T$  \n",
    "3. Let the instantaneous utility function satisfying $u' > 0, u''<0$ be\n",
    "\n",
    "$$U(c(t))=\\ln c(t)$$\n",
    "\n",
    "4. The intertemporal preference is given by parameter $\\rho$\n",
    "5. Then the lifetime utility is as follows\n",
    "\n",
    "$$u = \\int_{0}^{T} \\exp(-\\rho t)Udt$$"
   ]
  },
  {
   "cell_type": "markdown",
   "id": "14c4b1bf",
   "metadata": {},
   "source": [
    "### The problem\n",
    "The individual wishes to  \n",
    "$$ \\max \\int_{0}^{T} \\exp(-\\rho t) \\ln c dt $$\n",
    "subject to\n",
    "\n",
    "$$\\dot{x} = rx - c$$\n",
    "$$x(0) = x_0$$\n",
    "$$x(T) = b$$"
   ]
  },
  {
   "cell_type": "markdown",
   "id": "c0c1d8f0",
   "metadata": {},
   "source": [
    "### Solution\n",
    "A step-by-step procedure:  \n",
    "1. Define Hamiltonian and constraints\n",
    "2. First order condition (FOC) for the control variable $c$, solve for it\n",
    "3. FOC for the state variable\n",
    "4. Resulting two equation differential system (FOC2 and st1 with the use of FOC1)\n",
    "5. The solution of DE1\n",
    "6. Rewrite DE2:    \n",
    "    plug the solution into DE2    \n",
    "    solve for the solution  \n",
    "    multiply both sides by int. factor exp(-rt)  \n",
    "7. Integrate both sides of the rewritten solution\n",
    "8. Solve for x(t)\n",
    "9. Using the constraints for the second boundary conditions solve for C2\n",
    "10. Using the constraint for the first boundary condition and the solution for C2 solve for C1\n",
    "11. Plug the solutions for C1 and C2 in the solution for x(t)"
   ]
  },
  {
   "cell_type": "markdown",
   "id": "9d819b34",
   "metadata": {},
   "source": [
    "### The problem and the general solution"
   ]
  },
  {
   "cell_type": "code",
   "execution_count": 33,
   "id": "ced379d8",
   "metadata": {},
   "outputs": [
    {
     "name": "stderr",
     "output_type": "stream",
     "text": [
      "C:\\Users\\Alex\\AppData\\Local\\Temp\\ipykernel_13172\\2091633686.py:2: DeprecationWarning: `magic(...)` is deprecated since IPython 0.13 (warning added in 8.1), use run_line_magic(magic_name, parameter_s).\n",
      "  get_ipython().magic('reset -sf')\n"
     ]
    }
   ],
   "source": [
    "from IPython import get_ipython;\n",
    "get_ipython().magic('reset -sf')"
   ]
  },
  {
   "cell_type": "code",
   "execution_count": 34,
   "id": "51f975bb",
   "metadata": {},
   "outputs": [
    {
     "data": {
      "text/latex": [
       "$\\displaystyle c{\\left(t \\right)} = \\frac{1}{\\mu{\\left(t \\right)}}$"
      ],
      "text/plain": [
       "Eq(c(t), 1/mu(t))"
      ]
     },
     "execution_count": 34,
     "metadata": {},
     "output_type": "execute_result"
    }
   ],
   "source": [
    "#pip install sympy\n",
    "from sympy import diff, symbols, ln, Eq, solve, dsolve, Function, Derivative, exp, integrate, powsimp, simplify\n",
    "\n",
    "# Introduce symbols\n",
    "r, t, rho = symbols('r t rho')\n",
    "# Introduce functions\n",
    "c = Function('c')(t)\n",
    "x = Function('x')(t)\n",
    "mu = Function('mu')(t)\n",
    "\n",
    "# 1. Hamiltonian\n",
    "H = ln(c) + mu*(r*x - c)\n",
    "# subject to\n",
    "st1 = r*x - c\n",
    "\n",
    "# 2. FOC1 for the control variable c\n",
    "foc1 = Eq(diff(H,c), 0).simplify()\n",
    "c_s = solve(foc1,c)[0] # solve for c\n",
    "eq = Eq(c,c_s)\n",
    "eq"
   ]
  },
  {
   "cell_type": "code",
   "execution_count": 35,
   "id": "0a853999",
   "metadata": {},
   "outputs": [
    {
     "data": {
      "text/latex": [
       "$\\displaystyle \\frac{d}{d t} \\mu{\\left(t \\right)} = \\left(- r + \\rho\\right) \\mu{\\left(t \\right)}$"
      ],
      "text/plain": [
       "Eq(Derivative(mu(t), t), (-r + rho)*mu(t))"
      ]
     },
     "execution_count": 35,
     "metadata": {},
     "output_type": "execute_result"
    }
   ],
   "source": [
    "# 3. FOC for the state variable x\n",
    "mut = mu.diff()\n",
    "\n",
    "foc2 = Eq(diff(H,x), rho*mu - mut).simplify()\n",
    "mut_s = solve(foc2,mut)[0]\n",
    "de1 = Eq(mut,mut_s)\n",
    "\n",
    "# The first resultant de\n",
    "de1"
   ]
  },
  {
   "cell_type": "code",
   "execution_count": 36,
   "id": "445565c6",
   "metadata": {},
   "outputs": [
    {
     "data": {
      "text/latex": [
       "$\\displaystyle \\frac{d}{d t} x{\\left(t \\right)} = r x{\\left(t \\right)} - \\frac{1}{\\mu{\\left(t \\right)}}$"
      ],
      "text/plain": [
       "Eq(Derivative(x(t), t), r*x(t) - 1/mu(t))"
      ]
     },
     "execution_count": 36,
     "metadata": {},
     "output_type": "execute_result"
    }
   ],
   "source": [
    "# 4. Plug foc1 in the constraint st1\n",
    "xt = x.diff()\n",
    "xt2 = st1.subs(c, c_s)\n",
    "de2 = Eq(xt, xt2)\n",
    "\n",
    "# the second resultant de:\n",
    "de2"
   ]
  },
  {
   "cell_type": "markdown",
   "id": "ff358633",
   "metadata": {},
   "source": [
    "Thus, the system of differential equations to solve for optimal path for saving is given by de1 and de2:\n",
    "$$\\dot{\\mu} = \\mu(\\rho - r)$$\n",
    "$$\\dot{x} = rx - \\mu^{-1}$$"
   ]
  },
  {
   "cell_type": "code",
   "execution_count": 37,
   "id": "bb3a7794",
   "metadata": {},
   "outputs": [
    {
     "data": {
      "text/latex": [
       "$\\displaystyle \\mu{\\left(t \\right)} = C_{1} e^{t \\left(- r + \\rho\\right)}$"
      ],
      "text/plain": [
       "Eq(mu(t), C1*exp(t*(-r + rho)))"
      ]
     },
     "execution_count": 37,
     "metadata": {},
     "output_type": "execute_result"
    }
   ],
   "source": [
    "# 5. Solve de1\n",
    "ds1 = dsolve(Derivative(mu) - mu*(rho-r), mu)\n",
    "ds_r = solve(ds1,mu)[0]\n",
    "ds1"
   ]
  },
  {
   "cell_type": "code",
   "execution_count": 38,
   "id": "7310104c",
   "metadata": {},
   "outputs": [
    {
     "data": {
      "text/latex": [
       "$\\displaystyle \\left(- r x{\\left(t \\right)} + \\frac{d}{d t} x{\\left(t \\right)}\\right) e^{- r t} = - \\frac{e^{- \\rho t}}{C_{1}}$"
      ],
      "text/plain": [
       "Eq((-r*x(t) + Derivative(x(t), t))*exp(-r*t), -exp(-rho*t)/C1)"
      ]
     },
     "execution_count": 38,
     "metadata": {},
     "output_type": "execute_result"
    }
   ],
   "source": [
    "# 6. Rewrite de2\n",
    "plug = de2.subs(mu,ds_r) # plug the solution\n",
    "int_factor = exp(-r*t)\n",
    "\n",
    "lhs = -solve(plug,ds_r)[0]**(-1)*int_factor # left-hand side: times -1, times int. factor, power of -1\n",
    "rhs = powsimp(-solve(ds1,mu)[0]**(-1)*int_factor) # Right-hand side: the same\n",
    "\n",
    "ds2 = Eq(lhs,rhs) # solve for the solution and multiply by int. factor\n",
    "ds2"
   ]
  },
  {
   "cell_type": "code",
   "execution_count": 39,
   "id": "6ce7faa1",
   "metadata": {},
   "outputs": [
    {
     "data": {
      "text/latex": [
       "$\\displaystyle x{\\left(t \\right)} = \\left(C_{2} + \\frac{\\left(1 - e^{\\rho t}\\right) e^{- \\rho t}}{C_{1} \\rho}\\right) e^{r t}$"
      ],
      "text/plain": [
       "Eq(x(t), (C2 + (1 - exp(rho*t))*exp(-rho*t)/(C1*rho))*exp(r*t))"
      ]
     },
     "execution_count": 39,
     "metadata": {},
     "output_type": "execute_result"
    }
   ],
   "source": [
    "# Integrate rhs and simplify\n",
    "C1, C2 = symbols('C1 C2') # introduce the integration constants\n",
    "rhs_integ = (simplify(integrate(rhs,(t,0,t),\n",
    "                                conds='separate'))+C2)*int_factor**-1 # integrate rhs and solve for x moving the int.factor\n",
    "solution1 = Eq(x,rhs_integ)\n",
    "solution1"
   ]
  },
  {
   "cell_type": "markdown",
   "id": "878a644e",
   "metadata": {},
   "source": [
    "Thus, $x(t)$ given by the solution1 is an optimal path of saving  "
   ]
  },
  {
   "cell_type": "markdown",
   "id": "a6431bab",
   "metadata": {},
   "source": [
    "### Private solution with the account of boundary conditions"
   ]
  },
  {
   "cell_type": "code",
   "execution_count": 40,
   "id": "a90728ed",
   "metadata": {},
   "outputs": [
    {
     "data": {
      "text/latex": [
       "$\\displaystyle x_{0}$"
      ],
      "text/plain": [
       "x0"
      ]
     },
     "execution_count": 40,
     "metadata": {},
     "output_type": "execute_result"
    }
   ],
   "source": [
    "# 9. Solution for C2\n",
    "x0, xT, T = symbols('x0 xT T')\n",
    "sol2 = rhs_integ.subs(t,0)\n",
    "sol2 = x0\n",
    "sol2"
   ]
  },
  {
   "cell_type": "code",
   "execution_count": 41,
   "id": "18279575",
   "metadata": {},
   "outputs": [
    {
     "data": {
      "text/latex": [
       "$\\displaystyle \\frac{\\left(- e^{T r} + e^{T \\left(r + \\rho\\right)}\\right) e^{- T \\rho}}{\\rho \\left(x_{0} e^{T r} - xT\\right)}$"
      ],
      "text/plain": [
       "(-exp(T*r) + exp(T*(r + rho)))*exp(-T*rho)/(rho*(x0*exp(T*r) - xT))"
      ]
     },
     "execution_count": 41,
     "metadata": {},
     "output_type": "execute_result"
    }
   ],
   "source": [
    "# 10. Solution for C1\n",
    "sol1 = rhs_integ.subs({t:T,C2:sol2})\n",
    "sol1 = Eq(xT,sol1)\n",
    "sol1 = solve(sol1, C1)[0]\n",
    "sol1"
   ]
  },
  {
   "cell_type": "code",
   "execution_count": 42,
   "id": "a6a137b9",
   "metadata": {},
   "outputs": [
    {
     "data": {
      "text/latex": [
       "$\\displaystyle \\left(x_{0} + \\frac{\\left(1 - e^{\\rho t}\\right) \\left(x_{0} e^{T r} - xT\\right) e^{T \\rho} e^{- \\rho t}}{- e^{T r} + e^{T \\left(r + \\rho\\right)}}\\right) e^{r t}$"
      ],
      "text/plain": [
       "(x0 + (1 - exp(rho*t))*(x0*exp(T*r) - xT)*exp(T*rho)*exp(-rho*t)/(-exp(T*r) + exp(T*(r + rho))))*exp(r*t)"
      ]
     },
     "execution_count": 42,
     "metadata": {},
     "output_type": "execute_result"
    }
   ],
   "source": [
    "# 11. Plug the solutions for constraints\n",
    "x_sol = rhs_integ.subs({C1:sol1,C2:sol2})\n",
    "x_sol"
   ]
  },
  {
   "cell_type": "code",
   "execution_count": 43,
   "id": "ba3858f7",
   "metadata": {},
   "outputs": [
    {
     "data": {
      "text/latex": [
       "$\\displaystyle c{\\left(t \\right)} = \\frac{\\rho \\left(x_{0} e^{T r} - xT\\right) e^{T \\rho} e^{- t \\left(- r + \\rho\\right)}}{- e^{T r} + e^{T \\left(r + \\rho\\right)}}$"
      ],
      "text/plain": [
       "Eq(c(t), rho*(x0*exp(T*r) - xT)*exp(T*rho)*exp(-t*(-r + rho))/(-exp(T*r) + exp(T*(r + rho))))"
      ]
     },
     "execution_count": 43,
     "metadata": {},
     "output_type": "execute_result"
    }
   ],
   "source": [
    "# From this derive consumption path\n",
    "eq = eq.subs(mu,ds_r)\n",
    "c_sol = eq.subs(C1,sol1)\n",
    "c_sol"
   ]
  },
  {
   "cell_type": "code",
   "execution_count": 44,
   "id": "a0095ce6",
   "metadata": {},
   "outputs": [
    {
     "data": {
      "text/latex": [
       "$\\displaystyle r \\left(x_{0} + \\frac{\\left(1 - e^{\\rho t}\\right) \\left(x_{0} e^{T r} - xT\\right) e^{T \\rho} e^{- \\rho t}}{- e^{T r} + e^{T \\left(r + \\rho\\right)}}\\right) e^{r t} - \\frac{\\rho \\left(x_{0} e^{T r} - xT\\right) e^{T \\rho} e^{- t \\left(- r + \\rho\\right)}}{- e^{T r} + e^{T \\left(r + \\rho\\right)}}$"
      ],
      "text/plain": [
       "r*(x0 + (1 - exp(rho*t))*(x0*exp(T*r) - xT)*exp(T*rho)*exp(-rho*t)/(-exp(T*r) + exp(T*(r + rho))))*exp(r*t) - rho*(x0*exp(T*r) - xT)*exp(T*rho)*exp(-t*(-r + rho))/(-exp(T*r) + exp(T*(r + rho)))"
      ]
     },
     "execution_count": 44,
     "metadata": {},
     "output_type": "execute_result"
    }
   ],
   "source": [
    "# Savings\n",
    "sav = st1.subs({x:x_sol,c:c_sol.rhs})\n",
    "sav"
   ]
  },
  {
   "cell_type": "markdown",
   "id": "97e3b9c4",
   "metadata": {},
   "source": [
    "### Numerical examples"
   ]
  },
  {
   "cell_type": "code",
   "execution_count": 45,
   "id": "72b83bf7",
   "metadata": {},
   "outputs": [],
   "source": [
    "# Introduce the dictionary of parameters\n",
    "param = [x0, xT, t, T, r, rho] # list of parameters\n",
    "values = [100, 0, 12, 480, 0.01, 0.005] # list of their values"
   ]
  },
  {
   "cell_type": "code",
   "execution_count": 46,
   "id": "5fced389",
   "metadata": {},
   "outputs": [
    {
     "name": "stdout",
     "output_type": "stream",
     "text": [
      "105.528569853666\n",
      "0.583887337480517\n",
      "0.471398361056139\n"
     ]
    }
   ],
   "source": [
    "val = dict(zip(param,values))\n",
    "print(x_sol.subs(val))\n",
    "print(c_sol.rhs.subs(val))\n",
    "print(sav.subs(val))"
   ]
  },
  {
   "cell_type": "code",
   "execution_count": 47,
   "id": "416d1c8c",
   "metadata": {},
   "outputs": [
    {
     "name": "stdout",
     "output_type": "stream",
     "text": [
      "111.471365090262\n",
      "255.159213923753\n",
      "103.583680536849\n",
      "310.747821701279\n",
      "61.8783391786936\n"
     ]
    }
   ],
   "source": [
    "# Check the impact the parameters on the resultant calculations\n",
    "val2 = val.copy()\n",
    "val2[xT] = 10000 # we want to leave a legacy\n",
    "print(x_sol.subs(val2))\n",
    "\n",
    "val2 = val.copy()\n",
    "val2[t] = 240 # a half-life is gone\n",
    "print(x_sol.subs(val2))\n",
    "\n",
    "val2 = val.copy()\n",
    "val2[T] = 252 # a shorter life\n",
    "print(x_sol.subs(val2))\n",
    "\n",
    "val2 = val.copy()\n",
    "val2[r] = 0.1 # a righer return\n",
    "print(x_sol.subs(val2))\n",
    "\n",
    "val2 = val.copy()\n",
    "val2[rho] = 0.05 # a higher preference of current consumption over future\n",
    "print(x_sol.subs(val2))"
   ]
  },
  {
   "cell_type": "code",
   "execution_count": 48,
   "id": "be66f7d9",
   "metadata": {},
   "outputs": [],
   "source": [
    "# Form the table\n",
    "c = []\n",
    "x = []\n",
    "s = []\n",
    "for i in range(1,480+1):\n",
    "    val[t] = i\n",
    "    c.append(c_sol.rhs.subs(val))\n",
    "    x.append(x_sol.subs(val))\n",
    "    s.append(sav.subs(val))"
   ]
  },
  {
   "cell_type": "code",
   "execution_count": 49,
   "id": "2b731983",
   "metadata": {},
   "outputs": [],
   "source": [
    "# Compare saving variable with changes of capital\n",
    "import numpy as np\n",
    "li1 = np.array(x)[1:] - np.array(x)[:-1] # fd of capital\n",
    "li2 = (np.array(s)[1:] + np.array(s)[:-1])/2 # mean of pairs of values of sav"
   ]
  },
  {
   "cell_type": "code",
   "execution_count": 50,
   "id": "423c381e",
   "metadata": {},
   "outputs": [
    {
     "data": {
      "text/plain": [
       "(480, 3)"
      ]
     },
     "execution_count": 50,
     "metadata": {},
     "output_type": "execute_result"
    }
   ],
   "source": [
    "arr1 = np.array([c,s,x]).T\n",
    "arr1.shape"
   ]
  },
  {
   "cell_type": "code",
   "execution_count": 51,
   "id": "99344357",
   "metadata": {},
   "outputs": [
    {
     "data": {
      "text/plain": [
       "(479, 2)"
      ]
     },
     "execution_count": 51,
     "metadata": {},
     "output_type": "execute_result"
    }
   ],
   "source": [
    "arr2 = np.array([li1,li2]).T\n",
    "arr2.shape"
   ]
  },
  {
   "cell_type": "code",
   "execution_count": 52,
   "id": "d4e8eaea",
   "metadata": {},
   "outputs": [
    {
     "data": {
      "text/plain": [
       "(480, 2)"
      ]
     },
     "execution_count": 52,
     "metadata": {},
     "output_type": "execute_result"
    }
   ],
   "source": [
    "arr2 = np.vstack([arr2,['NAN','NAN']])\n",
    "arr2.shape"
   ]
  },
  {
   "cell_type": "code",
   "execution_count": 53,
   "id": "6d0d4d11",
   "metadata": {},
   "outputs": [
    {
     "data": {
      "text/html": [
       "<div>\n",
       "<style scoped>\n",
       "    .dataframe tbody tr th:only-of-type {\n",
       "        vertical-align: middle;\n",
       "    }\n",
       "\n",
       "    .dataframe tbody tr th {\n",
       "        vertical-align: top;\n",
       "    }\n",
       "\n",
       "    .dataframe thead th {\n",
       "        text-align: right;\n",
       "    }\n",
       "</style>\n",
       "<table border=\"1\" class=\"dataframe\">\n",
       "  <thead>\n",
       "    <tr style=\"text-align: right;\">\n",
       "      <th></th>\n",
       "      <th>cons</th>\n",
       "      <th>sav</th>\n",
       "      <th>cap</th>\n",
       "      <th>d_cap1</th>\n",
       "      <th>d_cap2</th>\n",
       "    </tr>\n",
       "  </thead>\n",
       "  <tbody>\n",
       "    <tr>\n",
       "      <th>0</th>\n",
       "      <td>0.552641</td>\n",
       "      <td>0.451869</td>\n",
       "      <td>1.004510e+02</td>\n",
       "      <td>0.452748</td>\n",
       "      <td>0.452748</td>\n",
       "    </tr>\n",
       "    <tr>\n",
       "      <th>1</th>\n",
       "      <td>0.555411</td>\n",
       "      <td>0.453627</td>\n",
       "      <td>1.009037e+02</td>\n",
       "      <td>0.454507</td>\n",
       "      <td>0.454507</td>\n",
       "    </tr>\n",
       "    <tr>\n",
       "      <th>2</th>\n",
       "      <td>0.558195</td>\n",
       "      <td>0.455388</td>\n",
       "      <td>1.013582e+02</td>\n",
       "      <td>0.456270</td>\n",
       "      <td>0.456270</td>\n",
       "    </tr>\n",
       "    <tr>\n",
       "      <th>3</th>\n",
       "      <td>0.560993</td>\n",
       "      <td>0.457152</td>\n",
       "      <td>1.018145e+02</td>\n",
       "      <td>0.458036</td>\n",
       "      <td>0.458037</td>\n",
       "    </tr>\n",
       "    <tr>\n",
       "      <th>4</th>\n",
       "      <td>0.563805</td>\n",
       "      <td>0.458921</td>\n",
       "      <td>1.022726e+02</td>\n",
       "      <td>0.459806</td>\n",
       "      <td>0.459807</td>\n",
       "    </tr>\n",
       "    <tr>\n",
       "      <th>...</th>\n",
       "      <td>...</td>\n",
       "      <td>...</td>\n",
       "      <td>...</td>\n",
       "      <td>...</td>\n",
       "      <td>...</td>\n",
       "    </tr>\n",
       "    <tr>\n",
       "      <th>475</th>\n",
       "      <td>5.941447</td>\n",
       "      <td>-5.706150</td>\n",
       "      <td>2.352971e+01</td>\n",
       "      <td>-5.749704</td>\n",
       "      <td>-5.749790</td>\n",
       "    </tr>\n",
       "    <tr>\n",
       "      <th>476</th>\n",
       "      <td>5.971229</td>\n",
       "      <td>-5.793429</td>\n",
       "      <td>1.778000e+01</td>\n",
       "      <td>-5.837496</td>\n",
       "      <td>-5.837582</td>\n",
       "    </tr>\n",
       "    <tr>\n",
       "      <th>477</th>\n",
       "      <td>6.001160</td>\n",
       "      <td>-5.881735</td>\n",
       "      <td>1.194251e+01</td>\n",
       "      <td>-5.926320</td>\n",
       "      <td>-5.926407</td>\n",
       "    </tr>\n",
       "    <tr>\n",
       "      <th>478</th>\n",
       "      <td>6.031241</td>\n",
       "      <td>-5.971079</td>\n",
       "      <td>6.016188e+00</td>\n",
       "      <td>-6.016188</td>\n",
       "      <td>-6.016276</td>\n",
       "    </tr>\n",
       "    <tr>\n",
       "      <th>479</th>\n",
       "      <td>6.061473</td>\n",
       "      <td>-6.061473</td>\n",
       "      <td>1.349037e-12</td>\n",
       "      <td>NaN</td>\n",
       "      <td>NaN</td>\n",
       "    </tr>\n",
       "  </tbody>\n",
       "</table>\n",
       "<p>480 rows × 5 columns</p>\n",
       "</div>"
      ],
      "text/plain": [
       "         cons       sav           cap    d_cap1    d_cap2\n",
       "0    0.552641  0.451869  1.004510e+02  0.452748  0.452748\n",
       "1    0.555411  0.453627  1.009037e+02  0.454507  0.454507\n",
       "2    0.558195  0.455388  1.013582e+02  0.456270  0.456270\n",
       "3    0.560993  0.457152  1.018145e+02  0.458036  0.458037\n",
       "4    0.563805  0.458921  1.022726e+02  0.459806  0.459807\n",
       "..        ...       ...           ...       ...       ...\n",
       "475  5.941447 -5.706150  2.352971e+01 -5.749704 -5.749790\n",
       "476  5.971229 -5.793429  1.778000e+01 -5.837496 -5.837582\n",
       "477  6.001160 -5.881735  1.194251e+01 -5.926320 -5.926407\n",
       "478  6.031241 -5.971079  6.016188e+00 -6.016188 -6.016276\n",
       "479  6.061473 -6.061473  1.349037e-12       NaN       NaN\n",
       "\n",
       "[480 rows x 5 columns]"
      ]
     },
     "execution_count": 53,
     "metadata": {},
     "output_type": "execute_result"
    }
   ],
   "source": [
    "import pandas as pd\n",
    "col=['cons','sav','cap','d_cap1','d_cap2']\n",
    "arr3 = np.concatenate((arr1, arr2),axis=1)\n",
    "data = pd.DataFrame(arr3, columns=col).astype('float')\n",
    "data"
   ]
  },
  {
   "cell_type": "code",
   "execution_count": 54,
   "id": "80168295",
   "metadata": {},
   "outputs": [
    {
     "data": {
      "text/plain": [
       "[<matplotlib.lines.Line2D at 0x167b6723220>]"
      ]
     },
     "execution_count": 54,
     "metadata": {},
     "output_type": "execute_result"
    },
    {
     "data": {
      "image/png": "[encoded data removed]",
      "text/plain": [
       "<Figure size 432x288 with 1 Axes>"
      ]
     },
     "metadata": {
      "needs_background": "light"
     },
     "output_type": "display_data"
    }
   ],
   "source": [
    "import matplotlib.pyplot as plt\n",
    "plt.plot(data['cons'], label = \"line 1\")\n",
    "plt.plot(data['sav'], label = \"line 2\")"
   ]
  }
 ],
 "metadata": {
  "kernelspec": {
   "display_name": "Python 3 (ipykernel)",
   "language": "python",
   "name": "python3"
  },
  "language_info": {
   "codemirror_mode": {
    "name": "ipython",
    "version": 3
   },
   "file_extension": ".py",
   "mimetype": "text/x-python",
   "name": "python",
   "nbconvert_exporter": "python",
   "pygments_lexer": "ipython3",
   "version": "3.9.12"
  }
 },
 "nbformat": 4,
 "nbformat_minor": 5
}
