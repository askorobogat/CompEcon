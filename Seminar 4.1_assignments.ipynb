{
 "cells": [
  {
   "cell_type": "markdown",
   "id": "5bf5f63b",
   "metadata": {},
   "source": [
    "### Computational Economics\n",
    "Alexander Skorobogatov"
   ]
  },
  {
   "cell_type": "markdown",
   "id": "c0cf638a",
   "metadata": {},
   "source": [
    "# Seminar 4.1\n",
    "This seminar is devoted to matrix operations using numpy. For related materials when preparing the assignments, please see [Topic 1](https://github.com/askorobogat/CompEcon/blob/main/Topic%201.%20Introduction%20to%20Python.ipynb)."
   ]
  },
  {
   "cell_type": "markdown",
   "id": "1b6f0e2b",
   "metadata": {},
   "source": [
    "### Matrix operations and linear system\n",
    "1. Create a random square matrix $A$ and make sure that the respective linear system is solvable -- calculate the determinant, find the rank.\n",
    "2. Introduce a vector of intercepts $b$.\n",
    "3. Solve the system $Ax = b$ for the vector $x$.\n",
    "4. Create a matrix of non full rank (e.g., a matrix 4 by 3 then adding a column being a linear combination of the three columns.\n",
    "5. Make sure that the matrix is of non full rank.\n",
    "6. Try solving this both via the matrix operations (the inverse of the matrix, etc.) and the numpy function.\n",
    "\n",
    "### Market equilibrium\n",
    "1. Create a coefficient matrix for linear demand functions assuming that the goods are capable of substituting each other\n",
    "2. Create a coefficient matrix for linear supply functions assuming a scarce resource available for using in the production of all the goods\n",
    "3. Given these, assume some demands and supplies introducing the respective vectors\n",
    "4. Solve for the market equilibrium\n",
    "\n",
    "### Leontief model\n",
    "The model is given by\n",
    "\n",
    "$$ x = Ax + y $$\n",
    "\n",
    "where $x$ is a gross output, $y$ is a net output, and $A$ is a coefficient matrix.  \n",
    "\n",
    "5. Create a random positive semi-definite matrix $A$  \n",
    "6. Create a random positive vector $y$. Given this, solve for $x$ and discuss.  \n",
    "7. Create a random positive vector $x$. Given this, solve for $y$ and discuss."
   ]
  }
 ],
 "metadata": {
  "kernelspec": {
   "display_name": "Python 3 (ipykernel)",
   "language": "python",
   "name": "python3"
  },
  "language_info": {
   "codemirror_mode": {
    "name": "ipython",
    "version": 3
   },
   "file_extension": ".py",
   "mimetype": "text/x-python",
   "name": "python",
   "nbconvert_exporter": "python",
   "pygments_lexer": "ipython3",
   "version": "3.9.12"
  }
 },
 "nbformat": 4,
 "nbformat_minor": 5
}
