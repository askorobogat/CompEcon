{
 "cells": [
  {
   "cell_type": "markdown",
   "id": "0db651ae",
   "metadata": {},
   "source": [
    "### Computational Economics\n",
    "Alexander Skorobogatov"
   ]
  },
  {
   "cell_type": "markdown",
   "id": "7f2f4b7a",
   "metadata": {},
   "source": [
    "# Seminar 3.1\n",
    "For related materials when preparing the assignments, please see [Topic 2.1](https://github.com/askorobogat/CompEcon/blob/main/Topic2.1.ipynb) and [Topic 2.2](https://github.com/askorobogat/CompEcon/blob/main/Topic2.2.ipynb)"
   ]
  },
  {
   "cell_type": "markdown",
   "id": "d6fdaae3",
   "metadata": {},
   "source": [
    "### Panel data manipulations\n",
    "1. Read [an excel table](https://github.com/askorobogat/CompEcon/raw/main/density.xls)\n",
    "2. Reshape from wide to the conventional long (panel) format  \n",
    "    a new column with index id  \n",
    "    rename columns adding a string 'popul' to the years  \n",
    "    reshape  \n",
    "3. Drop na and change the type of the variable of interest 'popul' to float\n",
    "4. Sort by id-year as conventionally done with panel data\n",
    "5. Display summary statistics by year\n",
    "\n",
    "### Transition probabilities and stationary distribution\n",
    "6. Create a categorical variable for population quartiles\n",
    "7. Create a transition variable for moving across the groups\n",
    "8. Create a table of transitions\n",
    "9. Create a transition probability matrix TM\n",
    "10. Using TM calculate the future distribution of Russian cities across the four groups based on a current distribution of your choice\n",
    "11. Calculate the stationary distribution\n",
    "12. Compare with the asymptotic distribution and discuss"
   ]
  }
 ],
 "metadata": {
  "kernelspec": {
   "display_name": "Python 3 (ipykernel)",
   "language": "python",
   "name": "python3"
  },
  "language_info": {
   "codemirror_mode": {
    "name": "ipython",
    "version": 3
   },
   "file_extension": ".py",
   "mimetype": "text/x-python",
   "name": "python",
   "nbconvert_exporter": "python",
   "pygments_lexer": "ipython3",
   "version": "3.9.12"
  }
 },
 "nbformat": 4,
 "nbformat_minor": 5
}
