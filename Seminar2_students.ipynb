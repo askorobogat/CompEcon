{
 "cells": [
  {
   "cell_type": "markdown",
   "id": "5c03ef04",
   "metadata": {},
   "source": [
    "# Seminar 2"
   ]
  },
  {
   "cell_type": "markdown",
   "id": "4a207169",
   "metadata": {},
   "source": [
    "### Cycles"
   ]
  },
  {
   "cell_type": "markdown",
   "id": "d56874ed",
   "metadata": {},
   "source": [
    "1. Function takes in an integer n and returns the first n rows of the Pascal triangle (for the definition, see Wiki)"
   ]
  },
  {
   "cell_type": "code",
   "execution_count": 7,
   "id": "c9db4a99",
   "metadata": {},
   "outputs": [
    {
     "name": "stdout",
     "output_type": "stream",
     "text": [
      "[1]\n",
      "[1, 1]\n",
      "[1, 2, 1]\n",
      "[1, 3, 3, 1]\n",
      "[1, 4, 6, 4, 1]\n",
      "[1, 5, 10, 10, 5, 1]\n",
      "[1, 6, 15, 20, 15, 6, 1]\n"
     ]
    }
   ],
   "source": [
    "# Svetlichnyy Nikodim\n",
    "def PrintPasTriangle(rows):\n",
    "    row = [1] \n",
    "    for i in range(rows): \n",
    "        print(row) \n",
    "        row = [sum(x) for x in zip([0]+row, row+[0])] \n",
    "         \n",
    "PrintPasTriangle(7)"
   ]
  },
  {
   "cell_type": "code",
   "execution_count": 9,
   "id": "d7d3b595",
   "metadata": {},
   "outputs": [
    {
     "name": "stdout",
     "output_type": "stream",
     "text": [
      "1 \n",
      "1 1 \n",
      "1 2 1 \n",
      "1 3 3 1 \n",
      "1 4 6 4 1 \n",
      "1 5 10 10 5 1 \n",
      "1 6 15 20 15 6 1 \n"
     ]
    }
   ],
   "source": [
    "# Rabchevskiy Daniil\n",
    "from math import factorial\n",
    "def pas(n):\n",
    "    for i in range(n):\n",
    "        for j in range(i + 1):\n",
    "            print(factorial(i) // (factorial(j) * factorial(i - j)), end=\" \")\n",
    "        print()\n",
    "pas(7)"
   ]
  },
  {
   "cell_type": "markdown",
   "id": "263952a3",
   "metadata": {},
   "source": [
    "2.\tFunction inputs a string of several phrases and returns the first and the last words for each"
   ]
  },
  {
   "cell_type": "code",
   "execution_count": 2,
   "id": "83c6bf34",
   "metadata": {},
   "outputs": [
    {
     "data": {
      "text/plain": [
       "[['One', 'three'], ['four', 'six']]"
      ]
     },
     "execution_count": 2,
     "metadata": {},
     "output_type": "execute_result"
    }
   ],
   "source": [
    "# Frolova Daryana\n",
    "def f(str):\n",
    "    l = str.split('.')\n",
    "    s=[]\n",
    "    for i in l:\n",
    "        k = i.split()\n",
    "        s.append([k[0],k[-1]])\n",
    "    return(s)\n",
    "f('One two three. four five six')"
   ]
  },
  {
   "cell_type": "markdown",
   "id": "e5669c01",
   "metadata": {},
   "source": [
    "3.\tFunction inputs an integer n and returns a string containing all the digits of n written verbally"
   ]
  },
  {
   "cell_type": "code",
   "execution_count": 13,
   "id": "1a704d6e",
   "metadata": {},
   "outputs": [
    {
     "data": {
      "text/plain": [
       "'два три четыре пять шесть '"
      ]
     },
     "execution_count": 13,
     "metadata": {},
     "output_type": "execute_result"
    }
   ],
   "source": [
    "# Fedorova Tatyana\n",
    "def f(n):\n",
    "    words=['ноль','один', 'два','три','четыре','пять','шесть','семь','восемь','девять','десять']\n",
    "    final=''\n",
    "    for i in str(n):\n",
    "        final+=words[int(i)]+' '\n",
    "    return final\n",
    "f(23456)"
   ]
  },
  {
   "cell_type": "markdown",
   "id": "cb9dd41c",
   "metadata": {},
   "source": [
    "### Conditions"
   ]
  },
  {
   "cell_type": "markdown",
   "id": "499f8ff2",
   "metadata": {},
   "source": [
    "4. Function checks whether the number n is odd. This should return True/False."
   ]
  },
  {
   "cell_type": "code",
   "execution_count": 17,
   "id": "f1c57005",
   "metadata": {},
   "outputs": [
    {
     "data": {
      "text/plain": [
       "False"
      ]
     },
     "execution_count": 17,
     "metadata": {},
     "output_type": "execute_result"
    }
   ],
   "source": [
    "# Egor Titov\n",
    "def is_odd(n):\n",
    "    return bool(n % 2)\n",
    "is_odd(6)"
   ]
  },
  {
   "cell_type": "code",
   "execution_count": 7,
   "id": "c749411e",
   "metadata": {},
   "outputs": [
    {
     "data": {
      "text/plain": [
       "True"
      ]
     },
     "execution_count": 7,
     "metadata": {},
     "output_type": "execute_result"
    }
   ],
   "source": [
    "# Akimov Nikita\n",
    "def t4(n): \n",
    "    if n % 2 == 0: return False \n",
    "    else: return True\n",
    "t4(5)"
   ]
  },
  {
   "cell_type": "markdown",
   "id": "bc723207",
   "metadata": {},
   "source": [
    "5. Function takes in an integer and calcultes the number of deviders."
   ]
  },
  {
   "cell_type": "code",
   "execution_count": 8,
   "id": "41ab3146",
   "metadata": {},
   "outputs": [
    {
     "data": {
      "text/plain": [
       "4"
      ]
     },
     "execution_count": 8,
     "metadata": {},
     "output_type": "execute_result"
    }
   ],
   "source": [
    "# Akimov Nikita\n",
    "def t5(n):\n",
    "    counter = 0 \n",
    "    for i in range(1, n + 1): \n",
    "        if n % i == 0: counter += 1 \n",
    "    return counter\n",
    "t5(33)"
   ]
  },
  {
   "cell_type": "markdown",
   "id": "1d239bb1",
   "metadata": {},
   "source": [
    "6. Function checks whether n is a prime number. This returns True/False."
   ]
  },
  {
   "cell_type": "code",
   "execution_count": 10,
   "id": "d4a35fe5",
   "metadata": {},
   "outputs": [
    {
     "data": {
      "text/plain": [
       "True"
      ]
     },
     "execution_count": 10,
     "metadata": {},
     "output_type": "execute_result"
    }
   ],
   "source": [
    "# Egor Titov\n",
    "def f(n):\n",
    "    number=0\n",
    "    for i in range(1,n):\n",
    "        if n%i==0:\n",
    "            number+=1\n",
    "    return bool(number==1)\n",
    "f(5)"
   ]
  },
  {
   "cell_type": "markdown",
   "id": "d4014ba8",
   "metadata": {},
   "source": [
    "7. Function checks whether a list of numbers is increasing. An additional parameter checks strict/nonstrict increasing."
   ]
  },
  {
   "cell_type": "code",
   "execution_count": 26,
   "id": "887257ad",
   "metadata": {},
   "outputs": [
    {
     "data": {
      "text/plain": [
       "True"
      ]
     },
     "execution_count": 26,
     "metadata": {},
     "output_type": "execute_result"
    }
   ],
   "source": [
    "# Egor Titov\n",
    "def check_inc(lst, strict=None):\n",
    "    if strict:\n",
    "        for i in range(1, len(lst)):\n",
    "            if not lst[i] >= lst[i-1]:\n",
    "                return False\n",
    "    else:\n",
    "        for i in range(1, len(lst)):\n",
    "            if not lst[i] > lst[i-1]:\n",
    "                return False\n",
    "    return True\n",
    "check_inc([1,1,3,4], True)"
   ]
  },
  {
   "cell_type": "markdown",
   "id": "72d464c9",
   "metadata": {},
   "source": [
    "8. Function takes in a list of list_of_numbers and returns average."
   ]
  },
  {
   "cell_type": "code",
   "execution_count": 32,
   "id": "2d8d40b3",
   "metadata": {},
   "outputs": [
    {
     "data": {
      "text/plain": [
       "3.0"
      ]
     },
     "execution_count": 32,
     "metadata": {},
     "output_type": "execute_result"
    }
   ],
   "source": [
    "# Alexander Skorobogatov\n",
    "import numpy as np\n",
    "def average(list_of_numbers):\n",
    "    return np.mean(list_of_numbers)\n",
    "average([1,2,3,4,5])"
   ]
  },
  {
   "cell_type": "code",
   "execution_count": 27,
   "id": "821f02b4",
   "metadata": {},
   "outputs": [
    {
     "data": {
      "text/plain": [
       "3.0"
      ]
     },
     "execution_count": 27,
     "metadata": {},
     "output_type": "execute_result"
    }
   ],
   "source": [
    "# Egor Titov\n",
    "def avg(lst):\n",
    "    return sum(lst)/len(lst)\n",
    "avg([1,2,3,4,5])"
   ]
  },
  {
   "cell_type": "markdown",
   "id": "98042c6f",
   "metadata": {},
   "source": [
    "9. Function takes in a list of numbers and boolean 'unbiased'. This returns sample variance, which is unbiased if the parameter is True (default value) and biased otherwise."
   ]
  },
  {
   "cell_type": "code",
   "execution_count": 29,
   "id": "fb35bfca",
   "metadata": {},
   "outputs": [
    {
     "data": {
      "text/plain": [
       "2.0"
      ]
     },
     "execution_count": 29,
     "metadata": {},
     "output_type": "execute_result"
    }
   ],
   "source": [
    "# Alexander Skorobogatov\n",
    "def variance(numbers,unbiased=True):\n",
    "    di = []\n",
    "    l = len(numbers)\n",
    "    su = sum(numbers)\n",
    "    for i in numbers: di.append((i-su/l)**2)\n",
    "    if unbiased==True: return sum(di)/(l-1)\n",
    "    else: return sum(di)/l\n",
    "variance([1,2,3,4,5],False)"
   ]
  },
  {
   "cell_type": "markdown",
   "id": "7e0c8b55",
   "metadata": {},
   "source": [
    "10. Function calculates a grade according to the formula $ x_1*0.75 + x_2*0.25 $ and rounded to the nearest integer."
   ]
  },
  {
   "cell_type": "code",
   "execution_count": 36,
   "id": "a8a13416",
   "metadata": {},
   "outputs": [
    {
     "data": {
      "text/plain": [
       "5"
      ]
     },
     "execution_count": 36,
     "metadata": {},
     "output_type": "execute_result"
    }
   ],
   "source": [
    "# Alexander Skorobogatov\n",
    "def final_grade(acc, exam):\n",
    "    return round(0.01 + 0.75*acc + 0.25*exam)\n",
    "final_grade(5,6)"
   ]
  },
  {
   "cell_type": "markdown",
   "id": "929aa543",
   "metadata": {},
   "source": [
    "### Dictionaries and tuples"
   ]
  },
  {
   "cell_type": "markdown",
   "id": "b476e68f",
   "metadata": {},
   "source": [
    "11. Function takes in a dictionary and a number and checks whether the former contains value more the the number."
   ]
  },
  {
   "cell_type": "code",
   "execution_count": 46,
   "id": "aeaa2052",
   "metadata": {},
   "outputs": [
    {
     "data": {
      "text/plain": [
       "False"
      ]
     },
     "execution_count": 46,
     "metadata": {},
     "output_type": "execute_result"
    }
   ],
   "source": [
    "# Alexander Skorobogatov\n",
    "def are_there_more(grades, n):\n",
    "    return max(grades.values()) > n\n",
    "are_there_more({'a':1,'b':2,'c':3},3)"
   ]
  },
  {
   "cell_type": "code",
   "execution_count": 18,
   "id": "01bb38e9",
   "metadata": {},
   "outputs": [
    {
     "data": {
      "text/plain": [
       "False"
      ]
     },
     "execution_count": 18,
     "metadata": {},
     "output_type": "execute_result"
    }
   ],
   "source": [
    "# Babikov Maksim\n",
    "def f(x, y):\n",
    "    k = 0\n",
    "    for i in x:\n",
    "        if x[i] > y:\n",
    "            k = k + 1\n",
    "    if k>0: \n",
    "        return(True)\n",
    "    else:\n",
    "        return(False)\n",
    "f({'first': 1, 'second': 4, 'third': 2}, 5)"
   ]
  },
  {
   "cell_type": "markdown",
   "id": "77e0f6ee",
   "metadata": {},
   "source": [
    "12. Function takes in a dictionary and returns a list of consistently following kes and values."
   ]
  },
  {
   "cell_type": "code",
   "execution_count": 30,
   "id": "c0e601fe",
   "metadata": {},
   "outputs": [
    {
     "data": {
      "text/plain": [
       "['a', 1, 'b', 2, 'c', 3]"
      ]
     },
     "execution_count": 30,
     "metadata": {},
     "output_type": "execute_result"
    }
   ],
   "source": [
    "# Alexander Skorobogatov\n",
    "def flatten_dict(d):\n",
    "    lii = []\n",
    "    li = list(zip(d.keys(),d.values()))\n",
    "    flat_list = [i for subi in li for i in subi]\n",
    "    return flat_list\n",
    "flatten_dict({'a':1,'b':2,'c':3})"
   ]
  },
  {
   "cell_type": "code",
   "execution_count": 31,
   "id": "93101695",
   "metadata": {},
   "outputs": [
    {
     "data": {
      "text/plain": [
       "['first', 1, 'second', 4, 'third', 2]"
      ]
     },
     "execution_count": 31,
     "metadata": {},
     "output_type": "execute_result"
    }
   ],
   "source": [
    "# Babikov Maksim\n",
    "def f(x): \n",
    "    listed = []\n",
    "    for i in x:\n",
    "        listed.append(i)\n",
    "        listed.append(x[i])\n",
    "    return(listed)\n",
    "    \n",
    "f({'first': 1, 'second': 4, 'third': 2})"
   ]
  },
  {
   "cell_type": "markdown",
   "id": "8f1fca73",
   "metadata": {},
   "source": [
    "13. Function takes in a list of strings and returns a dictionary having the strings as its keys and their length (in symbols) as its values."
   ]
  },
  {
   "cell_type": "code",
   "execution_count": 32,
   "id": "5d406813",
   "metadata": {},
   "outputs": [
    {
     "data": {
      "text/plain": [
       "{'this': 4, 'is': 2, 'a': 1, 'table': 5}"
      ]
     },
     "execution_count": 32,
     "metadata": {},
     "output_type": "execute_result"
    }
   ],
   "source": [
    "# Alexander Skorobogatov\n",
    "def countlen(words):\n",
    "    li = []\n",
    "    for i in words:\n",
    "        li.append(len(i))\n",
    "    return dict(zip(words, li))\n",
    "countlen(['this', 'is', 'a', 'table'])"
   ]
  },
  {
   "cell_type": "code",
   "execution_count": 14,
   "id": "c8ad02a0",
   "metadata": {},
   "outputs": [
    {
     "data": {
      "text/plain": [
       "{'Roma': 4, 'Invicta': 7, 'Aeterna': 7, 'Legio': 5, 'Victrix': 7}"
      ]
     },
     "execution_count": 14,
     "metadata": {},
     "output_type": "execute_result"
    }
   ],
   "source": [
    "# Vladislav Taltos\n",
    "def list_dict(a):\n",
    "    d = {}\n",
    "    for i in a:\n",
    "        d[i] = len(i)\n",
    "    return(d)  \n",
    "list_dict([\"Roma\", \"Invicta\", \"Aeterna\", \"Legio\", \"Victrix\"])"
   ]
  },
  {
   "cell_type": "markdown",
   "id": "9f116ecb",
   "metadata": {},
   "source": [
    "14. Function takes in a list of strings and returns one, which follows first after sorting by alphabet."
   ]
  },
  {
   "cell_type": "code",
   "execution_count": 15,
   "id": "3f6ce478",
   "metadata": {},
   "outputs": [
    {
     "data": {
      "text/plain": [
       "'table'"
      ]
     },
     "execution_count": 15,
     "metadata": {},
     "output_type": "execute_result"
    }
   ],
   "source": [
    "# Alexander Skorobogatov\n",
    "def first_str(words):\n",
    "    return min(words)\n",
    "first_str(['this', 'was', 'your', 'table'])"
   ]
  },
  {
   "cell_type": "code",
   "execution_count": 21,
   "id": "7a56e7c0",
   "metadata": {},
   "outputs": [
    {
     "data": {
      "text/plain": [
       "'Australia'"
      ]
     },
     "execution_count": 21,
     "metadata": {},
     "output_type": "execute_result"
    }
   ],
   "source": [
    "# Babikov Maksim\n",
    "def f(x):\n",
    "    x.sort()\n",
    "    return(x[0])\n",
    "\n",
    "f([\"Belgium\", \"USA\", \"Austria\", \"Australia\"])"
   ]
  },
  {
   "cell_type": "markdown",
   "id": "073f7a37",
   "metadata": {},
   "source": [
    "15. Function takes in a list of tuples (name and value) and returns the value corresponding to the first name after alphabetical sorting."
   ]
  },
  {
   "cell_type": "code",
   "execution_count": 33,
   "id": "a607332c",
   "metadata": {},
   "outputs": [
    {
     "data": {
      "text/plain": [
       "2"
      ]
     },
     "execution_count": 33,
     "metadata": {},
     "output_type": "execute_result"
    }
   ],
   "source": [
    "# Alexander Skorobogatov\n",
    "def get_first_student_grade(students):\n",
    "    return min(students)[1]\n",
    "get_first_student_grade([('Haha', 2), ('Hoho', 3), ('Zzz', 4), ('aaaa', 5)])"
   ]
  },
  {
   "cell_type": "code",
   "execution_count": 34,
   "id": "93a5095e",
   "metadata": {},
   "outputs": [
    {
     "data": {
      "text/plain": [
       "3"
      ]
     },
     "execution_count": 34,
     "metadata": {},
     "output_type": "execute_result"
    }
   ],
   "source": [
    "# Vladislav Taltos\n",
    "def tplist(a):\n",
    "    d = []\n",
    "    for i in a:\n",
    "        a = list(i)\n",
    "        d = d + [a]\n",
    "    d.sort()\n",
    "    return(d[0][1])    \n",
    "tplist([(\"Roma\", 1), (\"Invicta\", 2), (\"Aeterna\", 3), (\"Legio\", 4), (\"Victrix\", 5)])"
   ]
  }
 ],
 "metadata": {
  "kernelspec": {
   "display_name": "Python 3 (ipykernel)",
   "language": "python",
   "name": "python3"
  },
  "language_info": {
   "codemirror_mode": {
    "name": "ipython",
    "version": 3
   },
   "file_extension": ".py",
   "mimetype": "text/x-python",
   "name": "python",
   "nbconvert_exporter": "python",
   "pygments_lexer": "ipython3",
   "version": "3.9.12"
  }
 },
 "nbformat": 4,
 "nbformat_minor": 5
}
