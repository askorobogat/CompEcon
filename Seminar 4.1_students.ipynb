{
 "cells": [
  {
   "cell_type": "markdown",
   "id": "5bf5f63b",
   "metadata": {},
   "source": [
    "### Computational Economics\n",
    "Alexander Skorobogatov"
   ]
  },
  {
   "cell_type": "markdown",
   "id": "c0cf638a",
   "metadata": {},
   "source": [
    "# Seminar 4.1\n",
    "This seminar is devoted to matrix operations using numpy. For related materials when preparing the assignments, please see [Topic 1](https://github.com/askorobogat/CompEcon/blob/main/Topic%201.%20Introduction%20to%20Python.ipynb)."
   ]
  },
  {
   "cell_type": "markdown",
   "id": "1b6f0e2b",
   "metadata": {},
   "source": [
    "### Matrix operations and linear system\n",
    "1. Create a random square matrix $A$ and make sure that the respective linear system is solvable -- calculate the determinant, find the rank.\n",
    "2. Introduce a vector of intercepts $b$.\n",
    "3. Solve the system $Ax = b$ for the vector $x$.\n",
    "4. Create a matrix of non full rank (e.g., a matrix 4 by 3 then adding a column being a linear combination of the three columns.\n",
    "5. Make sure that the matrix is of non full rank.\n",
    "6. Try solving this both via the matrix operations (the inverse of the matrix, etc.) and the numpy function.\n",
    "\n",
    "### Market equilibrium\n",
    "7. Using sympy introduce coef matrices for demand and supply and the respective intercept vectors. Find equilibrium price and quantiry vectors analytically.\n",
    "8. Create a coefficient matrix for linear demand functions assuming that the goods are capable of substituting each other\n",
    "9. Create a coefficient matrix for linear supply functions assuming a scarce resource available for using in the production of all the goods\n",
    "10. Given these, assume some demands and supplies introducing the respective vectors\n",
    "11. Solve for the market equilibrium\n",
    "\n",
    "### Leontief model\n",
    "The model is given by\n",
    "\n",
    "$$ x = Ax + y $$\n",
    "\n",
    "where $x$ is a gross output, $y$ is a net output, and $A$ is a coefficient matrix.  \n",
    "\n",
    "12. Create a random positive semi-definite matrix $A$  \n",
    "13. Create a random positive vector $y$. Given this, solve for $x$ and discuss.  \n",
    "14. Create a random positive vector $x$. Given this, solve for $y$ and discuss."
   ]
  },
  {
   "cell_type": "markdown",
   "id": "61cefb25",
   "metadata": {},
   "source": [
    "### Matrix operations"
   ]
  },
  {
   "cell_type": "code",
   "execution_count": 4,
   "id": "1cdb6030",
   "metadata": {},
   "outputs": [
    {
     "name": "stdout",
     "output_type": "stream",
     "text": [
      "System is solvable as\n",
      "\n",
      "Matrix determinant is 0.2777781692602769\n",
      "Matrix rank is 2\n"
     ]
    }
   ],
   "source": [
    "# 1.1 Egor Titov\n",
    "\n",
    "import numpy as np\n",
    "import pandas as pd\n",
    "from random import randint\n",
    "\n",
    "n = randint(2, 9)\n",
    "A = np.random.rand(n,  n)\n",
    "\n",
    "\n",
    "det = np.linalg.det(A)\n",
    "rank = np.linalg.matrix_rank(A)\n",
    "\n",
    "print(f\"System is solvable as\\n\\nMatrix determinant is {det}\\nMatrix rank is {rank}\")"
   ]
  },
  {
   "cell_type": "code",
   "execution_count": 6,
   "id": "44e910c0",
   "metadata": {},
   "outputs": [],
   "source": [
    "# 1.2-4 Egor Titov\n",
    "b = np.random.rand(A.shape[0])\n",
    "\n",
    "# 1.3\n",
    "X = np.linalg.solve(A, b)"
   ]
  },
  {
   "cell_type": "code",
   "execution_count": 7,
   "id": "9178728f",
   "metadata": {},
   "outputs": [
    {
     "name": "stdout",
     "output_type": "stream",
     "text": [
      "[[0.11028107 0.25447816 0.32600535]\n",
      " [0.2399776  0.11604024 0.58747348]\n",
      " [0.02553893 0.64023801 0.37280786]\n",
      " [0.21643416 0.26349953 0.20500232]]\n",
      "[[0.11028107 0.25447816 0.32600535 0.31595826]\n",
      " [0.2399776  0.11604024 0.58747348 0.54042815]\n",
      " [0.02553893 0.64023801 0.37280786 0.34323881]\n",
      " [0.21643416 0.26349953 0.20500232 0.33715463]]\n"
     ]
    },
    {
     "data": {
      "text/plain": [
       "3"
      ]
     },
     "execution_count": 7,
     "metadata": {},
     "output_type": "execute_result"
    }
   ],
   "source": [
    "# 1.4 Alexander Skorobogatov\n",
    "A = np.random.rand(4,3)\n",
    "b_r = np.random.rand(3,1)\n",
    "c4 = A@b_r\n",
    "A2 = np.concatenate((A,c4), axis=1)\n",
    "print(A)\n",
    "print(A2)\n",
    "np.linalg.matrix_rank(A2)"
   ]
  },
  {
   "cell_type": "code",
   "execution_count": 50,
   "id": "9f3dbef6",
   "metadata": {},
   "outputs": [
    {
     "name": "stdout",
     "output_type": "stream",
     "text": [
      "3\n",
      "3\n",
      "-4.115108254154639e-12\n",
      "3\n",
      "1158.3000000000009\n"
     ]
    }
   ],
   "source": [
    "# 5 Alexander Skorobogatov\n",
    "print(np.linalg.matrix_rank(A))\n",
    "print(np.linalg.matrix_rank(A2))\n",
    "print(np.linalg.det(A2))\n",
    "print(np.linalg.matrix_rank(A2[:3,:3]))\n",
    "print(np.linalg.det(A2[:3,:3]))"
   ]
  },
  {
   "cell_type": "code",
   "execution_count": 52,
   "id": "dd49469a",
   "metadata": {},
   "outputs": [
    {
     "name": "stdout",
     "output_type": "stream",
     "text": [
      "[[ 3.16074310e+14]\n",
      " [ 6.32148619e+14]\n",
      " [ 9.48222929e+14]\n",
      " [-3.16074310e+14]]\n",
      "[[ 3.16074310e+14]\n",
      " [ 6.32148619e+14]\n",
      " [ 9.48222929e+14]\n",
      " [-3.16074310e+14]]\n"
     ]
    }
   ],
   "source": [
    "# 6 Alexander Skorobogatov\n",
    "b = np.array([[2,3,6,1]]).T\n",
    "print(np.linalg.inv(A2)@b)\n",
    "print(np.linalg.solve(A2,b))"
   ]
  },
  {
   "cell_type": "markdown",
   "id": "68066abd",
   "metadata": {},
   "source": [
    "### Market equilibrium"
   ]
  },
  {
   "cell_type": "code",
   "execution_count": 77,
   "id": "f275f3e2",
   "metadata": {},
   "outputs": [
    {
     "data": {
      "text/latex": [
       "$\\displaystyle - d + s = q \\left(A - B\\right)$"
      ],
      "text/plain": [
       "Eq(-d + s, q*(A - B))"
      ]
     },
     "execution_count": 77,
     "metadata": {},
     "output_type": "execute_result"
    }
   ],
   "source": [
    "# 7 Alexander Skorobogatov\n",
    "from sympy import symbols,solve, Eq\n",
    "A,B,s,d,p,q = symbols('A,B,s,d,p,q')\n",
    "pd = A*q + d\n",
    "ps = B*q + s\n",
    "sol = Eq(s-d,solve(Eq(pd,ps),s-d)[0])\n",
    "sol"
   ]
  },
  {
   "cell_type": "code",
   "execution_count": 18,
   "id": "08725964",
   "metadata": {},
   "outputs": [
    {
     "name": "stdout",
     "output_type": "stream",
     "text": [
      "Eq(-d + s, q*(A - B))\n"
     ]
    }
   ],
   "source": [
    "#Egor Titov, [10.10.2022 13:43]\n",
    "#Task 2.1\n",
    "import sympy as sym\n",
    "\n",
    "A, B, s, d, p, q = sym.symbols('A,B,s,d,p,q')\n",
    "P_d = A * q + d\n",
    "P_s = B*  q + s \n",
    "solution = sym.Eq(s-d, sym.solve(sym.Eq(P_d, P_s), s-d)[0])\n",
    "print(solution)\n"
   ]
  },
  {
   "cell_type": "code",
   "execution_count": 19,
   "id": "cac2abbf",
   "metadata": {},
   "outputs": [
    {
     "name": "stdout",
     "output_type": "stream",
     "text": [
      "prices: [5.50229051 7.61911326 3.49623844 5.7415885 ]\n",
      "quantities: [307.55692475 295.11050958 293.64657793 312.06380552]\n"
     ]
    }
   ],
   "source": [
    "# Vladislav Taltos 8-11\n",
    "def random_matrix(n,positive=True,maxeigen=10):\n",
    "    e=np.random.uniform(0,maxeigen,n) \n",
    "    r=np.random.uniform(0,1,n*n).reshape(n,n) \n",
    "    e = e if positive else -e\n",
    "    A = np.diag(e)  \n",
    "    return r @ A @ r.T \n",
    "n = 4\n",
    "A = random_matrix(n, positive = False)\n",
    "A_supply = A\n",
    "A_supply[np.diag_indices(n)] = np.random.uniform(0, 10, n)\n",
    "A = random_matrix(n, positive = True)\n",
    "A_demand_sub = A\n",
    "A_demand_sub[np.diag_indices(n)] = -np.random.uniform(0, 10, n)\n",
    "d = np.array([250,]*n)\n",
    "s = np.array([350,]*n)\n",
    "prices = np.linalg.solve(A_demand_sub - A_supply, s-d)\n",
    "quantities = A_demand_sub@prices + d\n",
    "print(f\"prices: {prices}\")\n",
    "print(f\"quantities: {quantities}\")"
   ]
  },
  {
   "cell_type": "markdown",
   "id": "8f9712f8",
   "metadata": {},
   "source": [
    "### Leontief model"
   ]
  },
  {
   "cell_type": "code",
   "execution_count": 21,
   "id": "61bc8b9e",
   "metadata": {},
   "outputs": [
    {
     "data": {
      "text/plain": [
       "array([[-0.18911464],\n",
       "       [ 0.34691522],\n",
       "       [-0.0457736 ]])"
      ]
     },
     "execution_count": 21,
     "metadata": {},
     "output_type": "execute_result"
    }
   ],
   "source": [
    "# Tatiana Fedorova 3.1-2\n",
    "def random_matrix(n,positive=True,maxeigen=10):\n",
    "    e=np.random.uniform(0,maxeigen,n) \n",
    "    r=np.random.uniform(0,1,n*n).reshape(n,n)\n",
    "    e = e if positive else -e\n",
    "    A = np.diag(e)  \n",
    "    return r @ A @ r.T\n",
    "A=random_matrix(3)\n",
    "rand_y = np.random.rand(3,1)\n",
    "rand_x = np.random.rand(3,1)\n",
    "#Ax-x=y\n",
    "#x(A-1)=y\n",
    "B=A-1\n",
    "#solve for x\n",
    "x_solved = np.linalg.solve(B,rand_y)\n",
    "x_solved"
   ]
  },
  {
   "cell_type": "code",
   "execution_count": 26,
   "id": "cdebedbb",
   "metadata": {},
   "outputs": [
    {
     "name": "stdout",
     "output_type": "stream",
     "text": [
      "[1.26112664 7.88061699 2.05443793]\n",
      "[ 14.57263902 -35.45041875  13.44268002]\n"
     ]
    }
   ],
   "source": [
    "# Vladislav Taltos, 3.1-3.3\n",
    "def random_matrix(n,positive=True,maxeigen=10):\n",
    "    e=np.random.uniform(0,maxeigen,n) \n",
    "    r=np.random.uniform(0,1,n*n).reshape(n,n) \n",
    "    e = e if positive else -e\n",
    "    A = np.diag(e)  \n",
    "    return r @ A @ r.T \n",
    "n = 3\n",
    "A = random_matrix(n, positive = True)\n",
    "def random_vector(n, positive=True, maxeigen = 10):\n",
    "    b = np.random.uniform(0, maxeigen, n)\n",
    "    b = b if positive else -b\n",
    "    return b \n",
    "y = random_vector(n, positive=True)    \n",
    "x = np.linalg.inv(1-A)@y\n",
    "print(y)\n",
    "print(x)"
   ]
  }
 ],
 "metadata": {
  "kernelspec": {
   "display_name": "Python 3 (ipykernel)",
   "language": "python",
   "name": "python3"
  },
  "language_info": {
   "codemirror_mode": {
    "name": "ipython",
    "version": 3
   },
   "file_extension": ".py",
   "mimetype": "text/x-python",
   "name": "python",
   "nbconvert_exporter": "python",
   "pygments_lexer": "ipython3",
   "version": "3.9.12"
  }
 },
 "nbformat": 4,
 "nbformat_minor": 5
}
