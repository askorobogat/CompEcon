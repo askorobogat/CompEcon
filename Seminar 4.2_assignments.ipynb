{
 "cells": [
  {
   "cell_type": "markdown",
   "id": "b1c4e698",
   "metadata": {},
   "source": [
    "### Computational Economics\n",
    "Alexander Skorobogatov"
   ]
  },
  {
   "cell_type": "markdown",
   "id": "e8f0437c",
   "metadata": {},
   "source": [
    "# Seminar 4.2\n",
    "This seminar is devoted to symbolic calculations. For related materials when preparing the assignments, please see [Topic 4.1](https://github.com/askorobogat/CompEcon/blob/main/Topic%204.1.%20Optimal%20saving.ipynb) and [Topic 4.2](https://github.com/askorobogat/CompEcon/blob/main/Topic%204.2.%20Optimal%20saving%20with%20wage.ipynb)."
   ]
  },
  {
   "cell_type": "markdown",
   "id": "8cd53994",
   "metadata": {},
   "source": [
    "### Symbolic calculations using sympy\n",
    "1.  An introductory exercise using a familiar material from microeconomics. Using the consumer model derive demand functions for two goods. Try the three methods of solving. For the problem and methods, see [H. Varian' textbook](https://faculty.ksu.edu.sa/sites/default/files/microeco-_varian.pdf), pp. 93-94.\n",
    "2. To get an idea of the solution, create numerical examples of the derived solutions and visualize the relationships among the demands and prices, income and any of the parameters (c or d).\n",
    "3. Derive an optimal consumption/saving paths based on a bit different assumption that the individual, in addition to wage and interest yield, gets an unconditional income ('inc'). For step-by-step procedure, pleese see [Topic 4.1](https://github.com/askorobogat/CompEcon/blob/main/Topic%204.1.%20Optimal%20saving.ipynb)\n",
    "\n",
    "\n",
    "### Numerical examples to get an idea of the solution\n",
    "4. Visualize the optimal paths of consumption, saving and capital for dict1: $ x_0,x_T,w,inc = 0, T = 500, r = 0.01, \\rho = 0.005 $.\n",
    "5. Change inc for 100 leaving the remaining parameters in dict1. Present new graphs next to the previous ones to see the difference. Discuss.\n",
    "6. Change T for 1000 with the others as in dict1. Present new graphs next to the previous ones to see the difference. Discuss.\n",
    "7. Change r for 0.05 with the others as in dict1. Present new graphs next to the previous ones to see the difference. Discuss.\n",
    "8. Change rho for 0.05 with the others as in dict1. Present new graphs next to the previous ones to see the difference. Discuss."
   ]
  }
 ],
 "metadata": {
  "kernelspec": {
   "display_name": "Python 3 (ipykernel)",
   "language": "python",
   "name": "python3"
  },
  "language_info": {
   "codemirror_mode": {
    "name": "ipython",
    "version": 3
   },
   "file_extension": ".py",
   "mimetype": "text/x-python",
   "name": "python",
   "nbconvert_exporter": "python",
   "pygments_lexer": "ipython3",
   "version": "3.9.12"
  }
 },
 "nbformat": 4,
 "nbformat_minor": 5
}
